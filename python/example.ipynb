{
 "cells": [
  {
   "cell_type": "code",
   "execution_count": 1,
   "metadata": {
    "scrolled": true
   },
   "outputs": [],
   "source": [
    "import sys\n",
    "sys.path.append('../build')   # assume an out-of-source build\n",
    "import exafmm as fmm\n",
    "import exafmm.laplace as laplace\n",
    "import exafmm.helmholtz as helmholtz\n",
    "import numpy as np"
   ]
  },
  {
   "cell_type": "code",
   "execution_count": 2,
   "metadata": {},
   "outputs": [
    {
     "name": "stdout",
     "output_type": "stream",
     "text": [
      "exafmm's pybind11 module\n",
      "exafmm's submodule for Laplace kernel\n",
      "exafmm's submodule for Helmholtz kernel\n"
     ]
    }
   ],
   "source": [
    "print(fmm.__doc__)\n",
    "print(laplace.__doc__)\n",
    "print(helmholtz.__doc__)"
   ]
  },
  {
   "cell_type": "markdown",
   "metadata": {},
   "source": [
    "#### create sources and targets"
   ]
  },
  {
   "cell_type": "code",
   "execution_count": 3,
   "metadata": {},
   "outputs": [],
   "source": [
    "nsrcs = 100000\n",
    "ntrgs = 100000"
   ]
  },
  {
   "cell_type": "code",
   "execution_count": 4,
   "metadata": {},
   "outputs": [],
   "source": [
    "src_coords = np.random.random((nsrcs, 3))\n",
    "src_charges = np.random.random(nsrcs)\n",
    "trg_coords = np.random.random((ntrgs, 3))\n",
    "\n",
    "sources_l = laplace.init_sources(src_coords, src_charges)\n",
    "targets_l = laplace.init_targets(trg_coords)"
   ]
  },
  {
   "cell_type": "code",
   "execution_count": 5,
   "metadata": {},
   "outputs": [],
   "source": [
    "src_charges = np.zeros(nsrcs, dtype=np.complex_)\n",
    "src_charges.real = np.random.random(nsrcs)\n",
    "src_charges.imag = np.random.random(nsrcs)\n",
    "\n",
    "sources_h = helmholtz.init_sources(src_coords, src_charges)\n",
    "targets_h = helmholtz.init_targets(trg_coords)"
   ]
  },
  {
   "cell_type": "markdown",
   "metadata": {},
   "source": [
    "#### creat FMM instances, set FMM parameters"
   ]
  },
  {
   "cell_type": "code",
   "execution_count": 6,
   "metadata": {},
   "outputs": [],
   "source": [
    "fmm_l = laplace.LaplaceFMM()\n",
    "fmm_l.p = 10\n",
    "fmm_l.nsurf = 6*(fmm_l.p-1)*(fmm_l.p-1) + 2\n",
    "fmm_l.ncrit = 400\n",
    "fmm_l.depth = 4"
   ]
  },
  {
   "cell_type": "code",
   "execution_count": 7,
   "metadata": {},
   "outputs": [],
   "source": [
    "fmm_h = helmholtz.HelmholtzFMM()\n",
    "fmm_h.p = 10\n",
    "fmm_h.nsurf = 6*(fmm_h.p-1)*(fmm_h.p-1) + 2\n",
    "fmm_h.ncrit = 400\n",
    "fmm_h.depth = 4\n",
    "fmm_h.wavek = 10"
   ]
  },
  {
   "cell_type": "markdown",
   "metadata": {},
   "source": [
    "#### build tree"
   ]
  },
  {
   "cell_type": "code",
   "execution_count": 8,
   "metadata": {},
   "outputs": [],
   "source": [
    "tree_l = laplace.build_tree(sources_l, targets_l, fmm_l)"
   ]
  },
  {
   "cell_type": "code",
   "execution_count": 9,
   "metadata": {},
   "outputs": [
    {
     "name": "stdout",
     "output_type": "stream",
     "text": [
      "0.5000011377172792\n",
      "[0.500000, 0.500000, 0.499995]\n"
     ]
    }
   ],
   "source": [
    "print(fmm_l.r0)  # root node radius\n",
    "print(fmm_l.x0)  # root node coords"
   ]
  },
  {
   "cell_type": "code",
   "execution_count": 10,
   "metadata": {},
   "outputs": [
    {
     "data": {
      "text/plain": [
       "4"
      ]
     },
     "execution_count": 10,
     "metadata": {},
     "output_type": "execute_result"
    }
   ],
   "source": [
    "tree_l.leafs[5].level"
   ]
  },
  {
   "cell_type": "code",
   "execution_count": 11,
   "metadata": {},
   "outputs": [],
   "source": [
    "tree_h = helmholtz.build_tree(sources_h, targets_h, fmm_h)"
   ]
  },
  {
   "cell_type": "code",
   "execution_count": 12,
   "metadata": {},
   "outputs": [
    {
     "name": "stdout",
     "output_type": "stream",
     "text": [
      "0.5000011377172792\n",
      "[0.500000, 0.500000, 0.499995]\n"
     ]
    }
   ],
   "source": [
    "print(fmm_h.r0)  # root node radius\n",
    "print(fmm_h.x0)  # root node coords"
   ]
  },
  {
   "cell_type": "code",
   "execution_count": 13,
   "metadata": {},
   "outputs": [
    {
     "data": {
      "text/plain": [
       "exafmm.laplace.Tree"
      ]
     },
     "execution_count": 13,
     "metadata": {},
     "output_type": "execute_result"
    }
   ],
   "source": [
    "type(tree_l)"
   ]
  },
  {
   "cell_type": "markdown",
   "metadata": {},
   "source": [
    "#### build interaction lists"
   ]
  },
  {
   "cell_type": "code",
   "execution_count": 14,
   "metadata": {},
   "outputs": [],
   "source": [
    "fmm.init_rel_coord()  # initialize relative coordinates matrix"
   ]
  },
  {
   "cell_type": "code",
   "execution_count": 15,
   "metadata": {},
   "outputs": [],
   "source": [
    "skip_P2P = False   # flag to skip near-field evaluation\n",
    "laplace.build_list(tree_l, fmm_l, skip_P2P)\n",
    "helmholtz.build_list(tree_h, fmm_h, skip_P2P)"
   ]
  },
  {
   "cell_type": "markdown",
   "metadata": {},
   "source": [
    "#### M2L setup"
   ]
  },
  {
   "cell_type": "code",
   "execution_count": 16,
   "metadata": {},
   "outputs": [],
   "source": [
    "fmm_l.M2L_setup(tree_l.nonleafs)"
   ]
  },
  {
   "cell_type": "code",
   "execution_count": 17,
   "metadata": {},
   "outputs": [],
   "source": [
    "fmm_h.M2L_setup(tree_h.nonleafs)"
   ]
  },
  {
   "cell_type": "markdown",
   "metadata": {},
   "source": [
    "#### pre-compute"
   ]
  },
  {
   "cell_type": "code",
   "execution_count": 18,
   "metadata": {},
   "outputs": [],
   "source": [
    "fmm_l.precompute()"
   ]
  },
  {
   "cell_type": "code",
   "execution_count": 19,
   "metadata": {},
   "outputs": [],
   "source": [
    "fmm_h.precompute()"
   ]
  },
  {
   "cell_type": "markdown",
   "metadata": {},
   "source": [
    "#### evaluate potential"
   ]
  },
  {
   "cell_type": "code",
   "execution_count": 20,
   "metadata": {},
   "outputs": [
    {
     "name": "stdout",
     "output_type": "stream",
     "text": [
      "P2M                  : 1.7733800e-01\n",
      "M2M                  : 8.7459000e-02\n",
      "P2L                  : 1.4790000e-03\n",
      "M2P                  : 1.3840000e-03\n",
      "P2P                  : 4.3667000e-02\n",
      "M2L                  : 6.5973100e-01\n",
      "L2L                  : 8.1354000e-02\n",
      "L2P                  : 1.3205900e-01\n"
     ]
    }
   ],
   "source": [
    "trg_value_l = laplace.evaluate(tree_l, fmm_l)"
   ]
  },
  {
   "cell_type": "markdown",
   "metadata": {},
   "source": [
    "`evaluate()` now return an numpy array with shape `(n_trg, 4)`. The i-th row consists of the potential and 3 components of the gradients of the i-th target."
   ]
  },
  {
   "cell_type": "code",
   "execution_count": 22,
   "metadata": {},
   "outputs": [
    {
     "data": {
      "text/plain": [
       "(100000, 4)"
      ]
     },
     "execution_count": 22,
     "metadata": {},
     "output_type": "execute_result"
    }
   ],
   "source": [
    "trg_value_l.shape"
   ]
  },
  {
   "cell_type": "code",
   "execution_count": 23,
   "metadata": {},
   "outputs": [
    {
     "name": "stdout",
     "output_type": "stream",
     "text": [
      "P2M                  : 9.6879100e-01\n",
      "M2M                  : 4.0530400e-01\n",
      "P2L                  : 1.8750000e-03\n",
      "M2P                  : 3.0500000e-03\n",
      "P2P                  : 4.5176700e-01\n",
      "M2L                  : 1.7441870e+00\n",
      "L2L                  : 3.5785500e-01\n",
      "L2P                  : 9.3800000e-01\n"
     ]
    }
   ],
   "source": [
    "trg_value_h = helmholtz.evaluate(tree_h, fmm_h)"
   ]
  },
  {
   "cell_type": "code",
   "execution_count": 25,
   "metadata": {},
   "outputs": [
    {
     "name": "stdout",
     "output_type": "stream",
     "text": [
      "(100000, 4)\n",
      "[-1.35664165e+03 +381.74668136j -1.27717456e+03+3082.11452063j\n",
      " -3.61940931e-01-1593.31474653j  3.26362743e+03-2628.04822698j]\n"
     ]
    }
   ],
   "source": [
    "print(trg_value_h.shape)\n",
    "print(trg_value_h[50])"
   ]
  },
  {
   "cell_type": "markdown",
   "metadata": {},
   "source": [
    "#### check accuracy\n",
    "\n",
    "For now, this is only valid when skip_P2P is disabled."
   ]
  },
  {
   "cell_type": "code",
   "execution_count": 26,
   "metadata": {},
   "outputs": [
    {
     "data": {
      "text/plain": [
       "[3.07434641599553e-10, 8.223430699980925e-08]"
      ]
     },
     "execution_count": 26,
     "metadata": {},
     "output_type": "execute_result"
    }
   ],
   "source": [
    "fmm_l.verify(tree_l.leafs)"
   ]
  },
  {
   "cell_type": "code",
   "execution_count": 27,
   "metadata": {},
   "outputs": [
    {
     "data": {
      "text/plain": [
       "[7.531061595344642e-09, 2.9993489913000785e-07]"
      ]
     },
     "execution_count": 27,
     "metadata": {},
     "output_type": "execute_result"
    }
   ],
   "source": [
    "fmm_h.verify(tree_h.leafs)"
   ]
  },
  {
   "cell_type": "markdown",
   "metadata": {},
   "source": [
    "#### update charges and run FMM iteratively (will be fixed later)"
   ]
  },
  {
   "cell_type": "markdown",
   "metadata": {},
   "source": [
    "\"\"\"\n",
    "niters = 10\n",
    "for i in range(niters):\n",
    "    print('-'*10 + ' iteration {} '.format(i) + '-'*10)  # print divider between iterations\n",
    "    src_charges = np.random.random(nsrcs)   # generate new random charges\n",
    "    fmm.update(src_charges)      # update charges\n",
    "    fmm.clear()                  # clear values\n",
    "    potentials = fmm.evaluate()  # evaluate potentials\n",
    "    fmm.check_accuracy()         # check accuracy\n",
    "\"\"\""
   ]
  }
 ],
 "metadata": {
  "kernelspec": {
   "display_name": "Python 3",
   "language": "python",
   "name": "python3"
  },
  "language_info": {
   "codemirror_mode": {
    "name": "ipython",
    "version": 3
   },
   "file_extension": ".py",
   "mimetype": "text/x-python",
   "name": "python",
   "nbconvert_exporter": "python",
   "pygments_lexer": "ipython3",
   "version": "3.7.3"
  }
 },
 "nbformat": 4,
 "nbformat_minor": 2
}
