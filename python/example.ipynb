{
 "cells": [
  {
   "cell_type": "code",
   "execution_count": 1,
   "metadata": {
    "scrolled": true
   },
   "outputs": [],
   "source": [
    "import sys\n",
    "sys.path.append('../build')   # assume an out-of-source build\n",
    "import exafmm as fmm\n",
    "import exafmm.laplace as laplace\n",
    "import exafmm.helmholtz as helmholtz\n",
    "import numpy as np"
   ]
  },
  {
   "cell_type": "code",
   "execution_count": 2,
   "metadata": {},
   "outputs": [
    {
     "name": "stdout",
     "output_type": "stream",
     "text": [
      "exafmm's pybind11 module\n",
      "exafmm's submodule for Laplace kernel\n",
      "exafmm's submodule for Helmholtz kernel\n"
     ]
    }
   ],
   "source": [
    "print(fmm.__doc__)\n",
    "print(laplace.__doc__)\n",
    "print(helmholtz.__doc__)"
   ]
  },
  {
   "cell_type": "markdown",
   "metadata": {},
   "source": [
    "#### create sources and targets"
   ]
  },
  {
   "cell_type": "code",
   "execution_count": 3,
   "metadata": {},
   "outputs": [],
   "source": [
    "nsrcs = 100000\n",
    "ntrgs = 100000"
   ]
  },
  {
   "cell_type": "code",
   "execution_count": 4,
   "metadata": {},
   "outputs": [],
   "source": [
    "src_coords = np.random.random((nsrcs, 3))\n",
    "src_charges = np.random.random(nsrcs)\n",
    "trg_coords = np.random.random((ntrgs, 3))\n",
    "\n",
    "sources_l = laplace.init_sources(src_coords, src_charges)\n",
    "targets_l = laplace.init_targets(trg_coords)"
   ]
  },
  {
   "cell_type": "code",
   "execution_count": 5,
   "metadata": {},
   "outputs": [],
   "source": [
    "src_charges = np.zeros(nsrcs, dtype=np.complex_)\n",
    "src_charges.real = np.random.random(nsrcs)\n",
    "src_charges.imag = np.random.random(nsrcs)\n",
    "\n",
    "sources_h = helmholtz.init_sources(src_coords, src_charges)\n",
    "targets_h = helmholtz.init_targets(trg_coords)"
   ]
  },
  {
   "cell_type": "markdown",
   "metadata": {},
   "source": [
    "#### creat FMM instances, set FMM parameters"
   ]
  },
  {
   "cell_type": "code",
   "execution_count": 6,
   "metadata": {},
   "outputs": [],
   "source": [
    "fmm_l = laplace.LaplaceFMM()\n",
    "fmm_l.p = 10\n",
    "fmm_l.nsurf = 6*(fmm_l.p-1)*(fmm_l.p-1) + 2\n",
    "fmm_l.ncrit = 400\n",
    "fmm_l.depth = 4"
   ]
  },
  {
   "cell_type": "code",
   "execution_count": 7,
   "metadata": {},
   "outputs": [],
   "source": [
    "fmm_h = helmholtz.HelmholtzFMM()\n",
    "fmm_h.p = 10\n",
    "fmm_h.nsurf = 6*(fmm_h.p-1)*(fmm_h.p-1) + 2\n",
    "fmm_h.ncrit = 400\n",
    "fmm_h.depth = 4\n",
    "fmm_h.wavek = 10"
   ]
  },
  {
   "cell_type": "markdown",
   "metadata": {},
   "source": [
    "#### build tree"
   ]
  },
  {
   "cell_type": "code",
   "execution_count": 8,
   "metadata": {},
   "outputs": [],
   "source": [
    "tree_l = laplace.build_tree(sources_l, targets_l, fmm_l)"
   ]
  },
  {
   "cell_type": "code",
   "execution_count": 9,
   "metadata": {},
   "outputs": [
    {
     "name": "stdout",
     "output_type": "stream",
     "text": [
      "0.5000031880654411\n",
      "[0.499999, 0.500003, 0.500003]\n"
     ]
    }
   ],
   "source": [
    "print(fmm_l.r0)  # root node radius\n",
    "print(fmm_l.x0)  # root node coords"
   ]
  },
  {
   "cell_type": "code",
   "execution_count": 10,
   "metadata": {},
   "outputs": [
    {
     "data": {
      "text/plain": [
       "4"
      ]
     },
     "execution_count": 10,
     "metadata": {},
     "output_type": "execute_result"
    }
   ],
   "source": [
    "tree_l.leafs[5].level"
   ]
  },
  {
   "cell_type": "code",
   "execution_count": 11,
   "metadata": {},
   "outputs": [],
   "source": [
    "tree_h = helmholtz.build_tree(sources_h, targets_h, fmm_h)"
   ]
  },
  {
   "cell_type": "code",
   "execution_count": 12,
   "metadata": {},
   "outputs": [
    {
     "name": "stdout",
     "output_type": "stream",
     "text": [
      "0.5000031880654411\n",
      "[0.499999, 0.500003, 0.500003]\n"
     ]
    }
   ],
   "source": [
    "print(fmm_h.r0)  # root node radius\n",
    "print(fmm_h.x0)  # root node coords"
   ]
  },
  {
   "cell_type": "code",
   "execution_count": 13,
   "metadata": {},
   "outputs": [
    {
     "data": {
      "text/plain": [
       "exafmm.laplace.Tree"
      ]
     },
     "execution_count": 13,
     "metadata": {},
     "output_type": "execute_result"
    }
   ],
   "source": [
    "type(tree_l)"
   ]
  },
  {
   "cell_type": "markdown",
   "metadata": {},
   "source": [
    "#### build interaction lists"
   ]
  },
  {
   "cell_type": "code",
   "execution_count": 14,
   "metadata": {},
   "outputs": [],
   "source": [
    "fmm.init_rel_coord()  # initialize relative coordinates matrix"
   ]
  },
  {
   "cell_type": "code",
   "execution_count": 15,
   "metadata": {},
   "outputs": [],
   "source": [
    "skip_P2P = False   # flag to skip near-field evaluation\n",
    "laplace.build_list(tree_l, fmm_l, skip_P2P)\n",
    "helmholtz.build_list(tree_h, fmm_h, skip_P2P)"
   ]
  },
  {
   "cell_type": "markdown",
   "metadata": {},
   "source": [
    "#### M2L setup"
   ]
  },
  {
   "cell_type": "code",
   "execution_count": 16,
   "metadata": {},
   "outputs": [],
   "source": [
    "fmm_l.M2L_setup(tree_l.nonleafs)"
   ]
  },
  {
   "cell_type": "code",
   "execution_count": 17,
   "metadata": {},
   "outputs": [],
   "source": [
    "fmm_h.M2L_setup(tree_h.nonleafs)"
   ]
  },
  {
   "cell_type": "markdown",
   "metadata": {},
   "source": [
    "#### pre-compute"
   ]
  },
  {
   "cell_type": "code",
   "execution_count": 18,
   "metadata": {},
   "outputs": [],
   "source": [
    "fmm_l.precompute()"
   ]
  },
  {
   "cell_type": "code",
   "execution_count": 19,
   "metadata": {},
   "outputs": [],
   "source": [
    "fmm_h.precompute()"
   ]
  },
  {
   "cell_type": "markdown",
   "metadata": {},
   "source": [
    "#### evaluate potential"
   ]
  },
  {
   "cell_type": "code",
   "execution_count": 20,
   "metadata": {},
   "outputs": [
    {
     "name": "stdout",
     "output_type": "stream",
     "text": [
      "P2M                  : 1.8569900e-01\n",
      "M2M                  : 8.9448000e-02\n",
      "P2L                  : 9.8000000e-05\n",
      "M2P                  : 8.5000000e-05\n",
      "P2P                  : 5.2642000e-02\n",
      "M2L                  : 6.9449500e-01\n",
      "L2L                  : 8.4517000e-02\n",
      "L2P                  : 1.3231400e-01\n"
     ]
    },
    {
     "data": {
      "text/plain": [
       "array([7284.1514654 , 6722.59532207, 7489.33222565, ..., 6397.87028968,\n",
       "       7072.30317255, 6350.62653948])"
      ]
     },
     "execution_count": 20,
     "metadata": {},
     "output_type": "execute_result"
    }
   ],
   "source": [
    "laplace.evaluate(tree_l, fmm_l)"
   ]
  },
  {
   "cell_type": "code",
   "execution_count": 21,
   "metadata": {},
   "outputs": [
    {
     "name": "stdout",
     "output_type": "stream",
     "text": [
      "P2M                  : 9.7287800e-01\n",
      "M2M                  : 3.6079800e-01\n",
      "P2L                  : 5.9000000e-05\n",
      "M2P                  : 1.0000000e-04\n",
      "P2P                  : 4.5189400e-01\n",
      "M2L                  : 1.7613190e+00\n",
      "L2L                  : 3.7330700e-01\n",
      "L2P                  : 9.4550300e-01\n"
     ]
    },
    {
     "data": {
      "text/plain": [
       "array([-1047.21547504 -80.90825474j, -1181.81518058+341.43990627j,\n",
       "        -843.02957461-229.82213369j, ...,  -625.62910952-279.28874219j,\n",
       "       -1015.5920623  +15.49422443j,  -943.12411577 +13.98850784j])"
      ]
     },
     "execution_count": 21,
     "metadata": {},
     "output_type": "execute_result"
    }
   ],
   "source": [
    "helmholtz.evaluate(tree_h, fmm_h)"
   ]
  },
  {
   "cell_type": "markdown",
   "metadata": {},
   "source": [
    "#### check accuracy\n",
    "\n",
    "For now, this is only valid when skip_P2P is disabled."
   ]
  },
  {
   "cell_type": "code",
   "execution_count": 22,
   "metadata": {},
   "outputs": [
    {
     "data": {
      "text/plain": [
       "[4.047325116236916e-09, 3.376563805376623e-07]"
      ]
     },
     "execution_count": 22,
     "metadata": {},
     "output_type": "execute_result"
    }
   ],
   "source": [
    "fmm_l.verify(tree_l.leafs)"
   ]
  },
  {
   "cell_type": "code",
   "execution_count": 23,
   "metadata": {},
   "outputs": [
    {
     "data": {
      "text/plain": [
       "[7.115234849748951e-08, 1.1232268921180955e-06]"
      ]
     },
     "execution_count": 23,
     "metadata": {},
     "output_type": "execute_result"
    }
   ],
   "source": [
    "fmm_h.verify(tree_h.leafs)"
   ]
  },
  {
   "cell_type": "markdown",
   "metadata": {},
   "source": [
    "#### update charges and run FMM iteratively (will be fixed later)"
   ]
  },
  {
   "cell_type": "markdown",
   "metadata": {},
   "source": [
    "\"\"\"\n",
    "niters = 10\n",
    "for i in range(niters):\n",
    "    print('-'*10 + ' iteration {} '.format(i) + '-'*10)  # print divider between iterations\n",
    "    src_charges = np.random.random(nsrcs)   # generate new random charges\n",
    "    fmm.update(src_charges)      # update charges\n",
    "    fmm.clear()                  # clear values\n",
    "    potentials = fmm.evaluate()  # evaluate potentials\n",
    "    fmm.check_accuracy()         # check accuracy\n",
    "\"\"\""
   ]
  }
 ],
 "metadata": {
  "kernelspec": {
   "display_name": "Python 3",
   "language": "python",
   "name": "python3"
  },
  "language_info": {
   "codemirror_mode": {
    "name": "ipython",
    "version": 3
   },
   "file_extension": ".py",
   "mimetype": "text/x-python",
   "name": "python",
   "nbconvert_exporter": "python",
   "pygments_lexer": "ipython3",
   "version": "3.7.3"
  }
 },
 "nbformat": 4,
 "nbformat_minor": 2
}
