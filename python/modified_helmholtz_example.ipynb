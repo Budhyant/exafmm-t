{
 "cells": [
  {
   "cell_type": "code",
   "execution_count": 1,
   "metadata": {},
   "outputs": [],
   "source": [
    "import sys\n",
    "sys.path.append('../build')   # assume an out-of-source build\n",
    "\n",
    "import numpy as np\n",
    "import exafmm as fmm\n",
    "import exafmm.modified_helmholtz as mod_helm"
   ]
  },
  {
   "cell_type": "code",
   "execution_count": 2,
   "metadata": {},
   "outputs": [
    {
     "data": {
      "text/plain": [
       "\"exafmm's submodule for Modified Helmholtz kernel\""
      ]
     },
     "execution_count": 2,
     "metadata": {},
     "output_type": "execute_result"
    }
   ],
   "source": [
    "mod_helm.__doc__"
   ]
  },
  {
   "cell_type": "markdown",
   "metadata": {},
   "source": [
    "### Create sources and targets"
   ]
  },
  {
   "cell_type": "code",
   "execution_count": 3,
   "metadata": {},
   "outputs": [],
   "source": [
    "nsrcs = 100000\n",
    "ntrgs = 100000\n",
    "\n",
    "# generate random positions for particles\n",
    "src_coords = np.random.random((nsrcs, 3))\n",
    "trg_coords = np.random.random((nsrcs, 3))\n",
    "\n",
    "# generate random charges for sources\n",
    "src_charges = np.random.random(nsrcs)"
   ]
  },
  {
   "cell_type": "code",
   "execution_count": 4,
   "metadata": {},
   "outputs": [],
   "source": [
    "# create a list of source instances\n",
    "sources = mod_helm.init_sources(src_coords, src_charges)\n",
    "\n",
    "# create a list of target instances\n",
    "targets = mod_helm.init_targets(trg_coords)"
   ]
  },
  {
   "cell_type": "markdown",
   "metadata": {},
   "source": [
    "### Create a ModifiedHelmholtzFMM instance"
   ]
  },
  {
   "cell_type": "code",
   "execution_count": 5,
   "metadata": {},
   "outputs": [],
   "source": [
    "p = 10\n",
    "ncrit = 400\n",
    "depth = 4\n",
    "wavek = 10\n",
    "fmm = mod_helm.ModifiedHelmholtzFMM(p, ncrit, depth, wavek)"
   ]
  },
  {
   "cell_type": "markdown",
   "metadata": {},
   "source": [
    "### Setup FMM\n",
    "\n",
    "Given sources, targets and FMM configurations, `setup()` builds the tree and interaction list and pre-compute invariant matrices.\n",
    "\n",
    "Set `skip_P2P` to `True` to skip near-field interactions for BEM applications."
   ]
  },
  {
   "cell_type": "code",
   "execution_count": 6,
   "metadata": {},
   "outputs": [],
   "source": [
    "skip_P2P = False\n",
    "tree = mod_helm.setup(sources, targets, fmm, skip_P2P)"
   ]
  },
  {
   "cell_type": "markdown",
   "metadata": {},
   "source": [
    "### Evaluate\n",
    "\n",
    "`evaluate()` triggers the evaluation and returns a $n_{trg} \\times 4$ `numpy.ndarray`.\n",
    "The $i$-th row of `trg_values` starts with the potential value of the $i$-th target, followed by its three gradient values."
   ]
  },
  {
   "cell_type": "code",
   "execution_count": 7,
   "metadata": {},
   "outputs": [
    {
     "name": "stdout",
     "output_type": "stream",
     "text": [
      "P2M                  : 4.1670400e-01\n",
      "M2M                  : 1.2065800e-01\n",
      "P2L                  : 7.0000000e-05\n",
      "M2P                  : 5.7000000e-05\n",
      "P2P                  : 4.1933200e-01\n",
      "M2L                  : 9.0916700e-01\n",
      "L2L                  : 1.1345400e-01\n",
      "L2P                  : 4.5863600e-01\n"
     ]
    }
   ],
   "source": [
    "trg_values = mod_helm.evaluate(tree, fmm)"
   ]
  },
  {
   "cell_type": "code",
   "execution_count": 8,
   "metadata": {},
   "outputs": [
    {
     "data": {
      "text/plain": [
       "array([ 2824.1209738 ,  -634.31429962,   877.44886585, 19433.44884345])"
      ]
     },
     "execution_count": 8,
     "metadata": {},
     "output_type": "execute_result"
    }
   ],
   "source": [
    "trg_values[6]"
   ]
  },
  {
   "cell_type": "markdown",
   "metadata": {},
   "source": [
    "### Check Accuracy\n",
    "\n",
    "`fmm.verify(tree.leafs)` returns L2-norm the relative error of potential and gradient in a list. It only works when `skip_P2P` is set to `False`."
   ]
  },
  {
   "cell_type": "code",
   "execution_count": 9,
   "metadata": {},
   "outputs": [
    {
     "data": {
      "text/plain": [
       "[5.803627296485308e-11, 8.405424264161787e-09]"
      ]
     },
     "execution_count": 9,
     "metadata": {},
     "output_type": "execute_result"
    }
   ],
   "source": [
    "fmm.verify(tree.leafs)"
   ]
  },
  {
   "cell_type": "markdown",
   "metadata": {},
   "source": [
    "### Update charges of sources and run FMM iteratively"
   ]
  },
  {
   "cell_type": "code",
   "execution_count": 10,
   "metadata": {},
   "outputs": [
    {
     "name": "stdout",
     "output_type": "stream",
     "text": [
      "---------- iteration 0 ----------\n",
      "P2M                  : 4.1045300e-01\n",
      "M2M                  : 1.4112000e-01\n",
      "P2L                  : 1.6500000e-04\n",
      "M2P                  : 3.9000000e-05\n",
      "P2P                  : 4.1704300e-01\n",
      "M2L                  : 9.1585100e-01\n",
      "L2L                  : 1.4150900e-01\n",
      "L2P                  : 4.5614800e-01\n",
      "Error:  [7.343935290089744e-11, 7.69520274751419e-09]\n",
      "---------- iteration 1 ----------\n",
      "P2M                  : 3.5447600e-01\n",
      "M2M                  : 1.2598900e-01\n",
      "P2L                  : 6.9000000e-05\n",
      "M2P                  : 6.0000000e-05\n",
      "P2P                  : 4.1825500e-01\n",
      "M2L                  : 9.2252700e-01\n",
      "L2L                  : 1.3097200e-01\n",
      "L2P                  : 4.5442500e-01\n",
      "Error:  [4.0006900716248965e-11, 6.430789206135463e-09]\n",
      "---------- iteration 2 ----------\n",
      "P2M                  : 3.5858500e-01\n",
      "M2M                  : 1.2269400e-01\n",
      "P2L                  : 7.1000000e-05\n",
      "M2P                  : 5.6000000e-05\n",
      "P2P                  : 4.1898300e-01\n",
      "M2L                  : 9.2288300e-01\n",
      "L2L                  : 1.0279100e-01\n",
      "L2P                  : 4.5199400e-01\n",
      "Error:  [4.935345768280594e-11, 9.42450567801131e-09]\n",
      "---------- iteration 3 ----------\n",
      "P2M                  : 3.6615800e-01\n",
      "M2M                  : 1.3394600e-01\n",
      "P2L                  : 7.0000000e-05\n",
      "M2P                  : 5.4000000e-05\n",
      "P2P                  : 4.1411700e-01\n",
      "M2L                  : 9.0206000e-01\n",
      "L2L                  : 1.0495500e-01\n",
      "L2P                  : 4.4531500e-01\n",
      "Error:  [8.831631516784272e-11, 4.916305946620456e-09]\n",
      "---------- iteration 4 ----------\n",
      "P2M                  : 3.6891600e-01\n",
      "M2M                  : 1.1371900e-01\n",
      "P2L                  : 6.9000000e-05\n",
      "M2P                  : 6.8400000e-04\n",
      "P2P                  : 4.2357900e-01\n",
      "M2L                  : 9.3312600e-01\n",
      "L2L                  : 1.1216700e-01\n",
      "L2P                  : 4.5258600e-01\n",
      "Error:  [3.800214793778336e-11, 1.2227044022466636e-08]\n",
      "---------- iteration 5 ----------\n",
      "P2M                  : 3.6791100e-01\n",
      "M2M                  : 1.2626300e-01\n",
      "P2L                  : 6.8000000e-05\n",
      "M2P                  : 5.3000000e-05\n",
      "P2P                  : 4.1083600e-01\n",
      "M2L                  : 8.9549800e-01\n",
      "L2L                  : 1.0687400e-01\n",
      "L2P                  : 4.5083500e-01\n",
      "Error:  [8.769319882840733e-11, 7.2253707905933576e-09]\n",
      "---------- iteration 6 ----------\n",
      "P2M                  : 3.5235100e-01\n",
      "M2M                  : 1.3446200e-01\n",
      "P2L                  : 6.9000000e-05\n",
      "M2P                  : 3.4500000e-04\n",
      "P2P                  : 4.5466300e-01\n",
      "M2L                  : 9.5306900e-01\n",
      "L2L                  : 1.1538600e-01\n",
      "L2P                  : 4.5709900e-01\n",
      "Error:  [5.10126009451335e-11, 5.6609603983531115e-09]\n",
      "---------- iteration 7 ----------\n",
      "P2M                  : 3.6706700e-01\n",
      "M2M                  : 1.1964600e-01\n",
      "P2L                  : 7.0000000e-05\n",
      "M2P                  : 5.5000000e-05\n",
      "P2P                  : 4.3080300e-01\n",
      "M2L                  : 9.1525300e-01\n",
      "L2L                  : 1.1640200e-01\n",
      "L2P                  : 4.5858400e-01\n",
      "Error:  [5.603589228593585e-11, 1.1366996759583857e-08]\n",
      "---------- iteration 8 ----------\n",
      "P2M                  : 3.7070500e-01\n",
      "M2M                  : 1.2308900e-01\n",
      "P2L                  : 7.1000000e-05\n",
      "M2P                  : 5.7000000e-05\n",
      "P2P                  : 4.1862600e-01\n",
      "M2L                  : 9.0764900e-01\n",
      "L2L                  : 1.1206600e-01\n",
      "L2P                  : 4.6979400e-01\n",
      "Error:  [4.132420612900508e-11, 5.050635911328369e-09]\n",
      "---------- iteration 9 ----------\n",
      "P2M                  : 3.6691600e-01\n",
      "M2M                  : 1.1192900e-01\n",
      "P2L                  : 6.9000000e-05\n",
      "M2P                  : 5.5000000e-05\n",
      "P2P                  : 4.3030200e-01\n",
      "M2L                  : 9.3532600e-01\n",
      "L2L                  : 1.1021300e-01\n",
      "L2P                  : 4.5005100e-01\n",
      "Error:  [5.789621811185682e-11, 9.863009258257394e-09]\n"
     ]
    }
   ],
   "source": [
    "niters = 10\n",
    "\n",
    "for i in range(niters):\n",
    "    print('-'*10 + ' iteration {} '.format(i) + '-'*10)  # print divider between iterations\n",
    "    \n",
    "    src_charges = np.random.random(nsrcs)         # generate new random charges          \n",
    "    mod_helm.update_charges(tree, src_charges)      # update charges\n",
    "    mod_helm.clear_values(tree)                     # clear values\n",
    "    trg_values = mod_helm.evaluate(tree, fmm)       # evaluate potentials\n",
    "\n",
    "    print(\"Error: \", fmm.verify(tree.leafs))       # check accuracy"
   ]
  },
  {
   "cell_type": "code",
   "execution_count": null,
   "metadata": {},
   "outputs": [],
   "source": []
  }
 ],
 "metadata": {
  "kernelspec": {
   "display_name": "Python 3",
   "language": "python",
   "name": "python3"
  },
  "language_info": {
   "codemirror_mode": {
    "name": "ipython",
    "version": 3
   },
   "file_extension": ".py",
   "mimetype": "text/x-python",
   "name": "python",
   "nbconvert_exporter": "python",
   "pygments_lexer": "ipython3",
   "version": "3.7.3"
  }
 },
 "nbformat": 4,
 "nbformat_minor": 2
}
