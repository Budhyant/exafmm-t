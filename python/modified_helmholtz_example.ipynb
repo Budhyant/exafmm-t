{
 "cells": [
  {
   "cell_type": "code",
   "execution_count": 1,
   "metadata": {},
   "outputs": [],
   "source": [
    "import sys\n",
    "sys.path.append('../build')   # assume an out-of-source build\n",
    "\n",
    "import numpy as np\n",
    "import exafmm as fmm\n",
    "import exafmm.modified_helmholtz as mod_helm"
   ]
  },
  {
   "cell_type": "code",
   "execution_count": 2,
   "metadata": {},
   "outputs": [
    {
     "data": {
      "text/plain": [
       "\"exafmm's submodule for Modified Helmholtz kernel\""
      ]
     },
     "execution_count": 2,
     "metadata": {},
     "output_type": "execute_result"
    }
   ],
   "source": [
    "mod_helm.__doc__"
   ]
  },
  {
   "cell_type": "markdown",
   "metadata": {},
   "source": [
    "### Create sources and targets"
   ]
  },
  {
   "cell_type": "code",
   "execution_count": 3,
   "metadata": {},
   "outputs": [],
   "source": [
    "nsrcs = 100000\n",
    "ntrgs = 100000\n",
    "\n",
    "# generate random positions for particles\n",
    "src_coords = np.random.random((nsrcs, 3))\n",
    "trg_coords = np.random.random((nsrcs, 3))\n",
    "\n",
    "# generate random charges for sources\n",
    "src_charges = np.random.random(nsrcs)"
   ]
  },
  {
   "cell_type": "code",
   "execution_count": 4,
   "metadata": {},
   "outputs": [],
   "source": [
    "# create a list of source instances\n",
    "sources = mod_helm.init_sources(src_coords, src_charges)\n",
    "\n",
    "# create a list of target instances\n",
    "targets = mod_helm.init_targets(trg_coords)"
   ]
  },
  {
   "cell_type": "markdown",
   "metadata": {},
   "source": [
    "### Create an LaplaceFMM instance"
   ]
  },
  {
   "cell_type": "code",
   "execution_count": 5,
   "metadata": {},
   "outputs": [],
   "source": [
    "fmm = mod_helm.ModifiedHelmholtzFMM()\n",
    "fmm.p = 10\n",
    "fmm.nsurf = 6*(fmm.p-1)*(fmm.p-1) + 2\n",
    "fmm.ncrit = 400\n",
    "fmm.depth = 4\n",
    "fmm.wavek = 10"
   ]
  },
  {
   "cell_type": "markdown",
   "metadata": {},
   "source": [
    "### Setup FMM\n",
    "\n",
    "Given sources, targets and FMM configurations, `setup()` builds the tree and interaction list and pre-compute invariant matrices.\n",
    "\n",
    "Set `skip_P2P` to `True` to skip near-field interactions for BEM applications."
   ]
  },
  {
   "cell_type": "code",
   "execution_count": 6,
   "metadata": {},
   "outputs": [],
   "source": [
    "skip_P2P = False\n",
    "tree = mod_helm.setup(sources, targets, fmm, skip_P2P)"
   ]
  },
  {
   "cell_type": "markdown",
   "metadata": {},
   "source": [
    "### Evaluate\n",
    "\n",
    "`evaluate()` triggers the evaluation and returns a $n_{trg} \\times 4$ `numpy.ndarray`.\n",
    "The $i$-th row of `trg_values` starts with the potential value of the $i$-th target, followed by its three gradient values."
   ]
  },
  {
   "cell_type": "code",
   "execution_count": 7,
   "metadata": {},
   "outputs": [
    {
     "name": "stdout",
     "output_type": "stream",
     "text": [
      "P2M                  : 3.5960800e-01\n",
      "M2M                  : 1.4360900e-01\n",
      "P2L                  : 1.6990000e-03\n",
      "M2P                  : 5.5500000e-04\n",
      "P2P                  : 4.2238500e-01\n",
      "M2L                  : 9.0301700e-01\n",
      "L2L                  : 1.3491700e-01\n",
      "L2P                  : 4.7320100e-01\n"
     ]
    }
   ],
   "source": [
    "trg_values = mod_helm.evaluate(tree, fmm)"
   ]
  },
  {
   "cell_type": "code",
   "execution_count": 8,
   "metadata": {},
   "outputs": [
    {
     "data": {
      "text/plain": [
       "array([4088.10980169, 4754.51633591, 8043.21328089, 2063.18225505])"
      ]
     },
     "execution_count": 8,
     "metadata": {},
     "output_type": "execute_result"
    }
   ],
   "source": [
    "trg_values[6]"
   ]
  },
  {
   "cell_type": "markdown",
   "metadata": {},
   "source": [
    "### Check Accuracy\n",
    "\n",
    "`fmm.verify(tree.leafs)` returns L2-norm the relative error of potential and gradient in a list. It only works when `skip_P2P` is set to `False`."
   ]
  },
  {
   "cell_type": "code",
   "execution_count": 9,
   "metadata": {},
   "outputs": [
    {
     "data": {
      "text/plain": [
       "[1.9377571638815348e-10, 1.1597814987925968e-08]"
      ]
     },
     "execution_count": 9,
     "metadata": {},
     "output_type": "execute_result"
    }
   ],
   "source": [
    "fmm.verify(tree.leafs)"
   ]
  },
  {
   "cell_type": "markdown",
   "metadata": {},
   "source": [
    "### Update charges of sources and run FMM iteratively"
   ]
  },
  {
   "cell_type": "code",
   "execution_count": 10,
   "metadata": {},
   "outputs": [
    {
     "name": "stdout",
     "output_type": "stream",
     "text": [
      "---------- iteration 0 ----------\n",
      "P2M                  : 3.6971300e-01\n",
      "M2M                  : 1.4016400e-01\n",
      "P2L                  : 1.6890000e-03\n",
      "M2P                  : 1.3330000e-03\n",
      "P2P                  : 4.3144100e-01\n",
      "M2L                  : 1.0010660e+00\n",
      "L2L                  : 1.1197400e-01\n",
      "L2P                  : 4.4744200e-01\n",
      "Error:  [1.9877225849050226e-10, 1.942424207946107e-08]\n",
      "---------- iteration 1 ----------\n",
      "P2M                  : 3.6691700e-01\n",
      "M2M                  : 1.8797500e-01\n",
      "P2L                  : 6.8000000e-05\n",
      "M2P                  : 5.7000000e-05\n",
      "P2P                  : 4.2840900e-01\n",
      "M2L                  : 8.7123100e-01\n",
      "L2L                  : 1.1022400e-01\n",
      "L2P                  : 4.6212400e-01\n",
      "Error:  [2.2153124646038202e-10, 3.1652574995056185e-08]\n",
      "---------- iteration 2 ----------\n",
      "P2M                  : 3.5136200e-01\n",
      "M2M                  : 1.2770600e-01\n",
      "P2L                  : 1.6630000e-03\n",
      "M2P                  : 3.1400000e-04\n",
      "P2P                  : 4.2520700e-01\n",
      "M2L                  : 8.7316400e-01\n",
      "L2L                  : 1.2467100e-01\n",
      "L2P                  : 4.8189200e-01\n",
      "Error:  [1.1974843985796058e-10, 1.6046612490757006e-08]\n",
      "---------- iteration 3 ----------\n",
      "P2M                  : 3.6790700e-01\n",
      "M2M                  : 1.4285400e-01\n",
      "P2L                  : 6.8000000e-05\n",
      "M2P                  : 5.8000000e-05\n",
      "P2P                  : 4.3469500e-01\n",
      "M2L                  : 8.8722600e-01\n",
      "L2L                  : 1.0967100e-01\n",
      "L2P                  : 4.5358700e-01\n",
      "Error:  [1.3416982046072863e-10, 1.4258609863697126e-08]\n",
      "---------- iteration 4 ----------\n",
      "P2M                  : 3.5506000e-01\n",
      "M2M                  : 1.5579300e-01\n",
      "P2L                  : 1.7010000e-03\n",
      "M2P                  : 1.3110000e-03\n",
      "P2P                  : 4.2671200e-01\n",
      "M2L                  : 8.9213000e-01\n",
      "L2L                  : 1.1337900e-01\n",
      "L2P                  : 5.4399800e-01\n",
      "Error:  [2.0812017109106962e-10, 1.967794329268519e-08]\n",
      "---------- iteration 5 ----------\n",
      "P2M                  : 3.8788300e-01\n",
      "M2M                  : 1.7336200e-01\n",
      "P2L                  : 6.2000000e-05\n",
      "M2P                  : 4.5000000e-05\n",
      "P2P                  : 4.2602900e-01\n",
      "M2L                  : 8.8404700e-01\n",
      "L2L                  : 1.3237000e-01\n",
      "L2P                  : 4.6108700e-01\n",
      "Error:  [1.8628788559536066e-10, 1.4342057617893317e-08]\n",
      "---------- iteration 6 ----------\n",
      "P2M                  : 3.6360600e-01\n",
      "M2M                  : 1.4435300e-01\n",
      "P2L                  : 6.3000000e-05\n",
      "M2P                  : 4.6000000e-05\n",
      "P2P                  : 4.3123200e-01\n",
      "M2L                  : 8.8676100e-01\n",
      "L2L                  : 1.5491500e-01\n",
      "L2P                  : 4.5827800e-01\n",
      "Error:  [2.0154287223232465e-10, 1.6961423991795214e-08]\n",
      "---------- iteration 7 ----------\n",
      "P2M                  : 3.5055600e-01\n",
      "M2M                  : 1.4660500e-01\n",
      "P2L                  : 7.4000000e-05\n",
      "M2P                  : 6.0000000e-05\n",
      "P2P                  : 4.2434900e-01\n",
      "M2L                  : 8.7853900e-01\n",
      "L2L                  : 1.2689300e-01\n",
      "L2P                  : 4.5800800e-01\n",
      "Error:  [1.8344073252397084e-10, 5.5750978451144644e-08]\n",
      "---------- iteration 8 ----------\n",
      "P2M                  : 3.5410500e-01\n",
      "M2M                  : 1.7054900e-01\n",
      "P2L                  : 7.0000000e-05\n",
      "M2P                  : 1.4200000e-04\n",
      "P2P                  : 4.1991700e-01\n",
      "M2L                  : 8.7705100e-01\n",
      "L2L                  : 1.5813000e-01\n",
      "L2P                  : 4.5500900e-01\n",
      "Error:  [1.485898041625259e-10, 1.2064913134809154e-08]\n",
      "---------- iteration 9 ----------\n",
      "P2M                  : 3.5500700e-01\n",
      "M2M                  : 1.2819500e-01\n",
      "P2L                  : 7.1000000e-05\n",
      "M2P                  : 5.7000000e-05\n",
      "P2P                  : 4.3614400e-01\n",
      "M2L                  : 8.6667000e-01\n",
      "L2L                  : 1.3462200e-01\n",
      "L2P                  : 4.4617500e-01\n",
      "Error:  [1.437056591287474e-10, 3.1128720025133185e-08]\n"
     ]
    }
   ],
   "source": [
    "niters = 10\n",
    "\n",
    "for i in range(niters):\n",
    "    print('-'*10 + ' iteration {} '.format(i) + '-'*10)  # print divider between iterations\n",
    "    \n",
    "    src_charges = np.random.random(nsrcs)         # generate new random charges          \n",
    "    mod_helm.update_charges(tree, src_charges)      # update charges\n",
    "    mod_helm.clear_values(tree)                     # clear values\n",
    "    trg_values = mod_helm.evaluate(tree, fmm)       # evaluate potentials\n",
    "\n",
    "    print(\"Error: \", fmm.verify(tree.leafs))       # check accuracy"
   ]
  },
  {
   "cell_type": "code",
   "execution_count": null,
   "metadata": {},
   "outputs": [],
   "source": []
  }
 ],
 "metadata": {
  "kernelspec": {
   "display_name": "Python 3",
   "language": "python",
   "name": "python3"
  },
  "language_info": {
   "codemirror_mode": {
    "name": "ipython",
    "version": 3
   },
   "file_extension": ".py",
   "mimetype": "text/x-python",
   "name": "python",
   "nbconvert_exporter": "python",
   "pygments_lexer": "ipython3",
   "version": "3.7.3"
  }
 },
 "nbformat": 4,
 "nbformat_minor": 2
}
