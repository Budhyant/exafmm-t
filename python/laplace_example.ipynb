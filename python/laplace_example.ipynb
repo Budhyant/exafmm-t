{
 "cells": [
  {
   "cell_type": "code",
   "execution_count": 1,
   "metadata": {},
   "outputs": [],
   "source": [
    "import sys\n",
    "sys.path.append('../build')   # assume an out-of-source build\n",
    "\n",
    "import numpy as np\n",
    "import exafmm as fmm\n",
    "import exafmm.laplace as laplace"
   ]
  },
  {
   "cell_type": "code",
   "execution_count": 2,
   "metadata": {},
   "outputs": [
    {
     "data": {
      "text/plain": [
       "\"exafmm's submodule for Laplace kernel\""
      ]
     },
     "execution_count": 2,
     "metadata": {},
     "output_type": "execute_result"
    }
   ],
   "source": [
    "laplace.__doc__"
   ]
  },
  {
   "cell_type": "markdown",
   "metadata": {},
   "source": [
    "### Create sources and targets"
   ]
  },
  {
   "cell_type": "code",
   "execution_count": 3,
   "metadata": {},
   "outputs": [],
   "source": [
    "nsrcs = 100000\n",
    "ntrgs = 100000\n",
    "\n",
    "# generate random positions for particles\n",
    "src_coords = np.random.random((nsrcs, 3))\n",
    "trg_coords = np.random.random((nsrcs, 3))\n",
    "\n",
    "# generate random charges for sources\n",
    "src_charges = np.random.random(nsrcs)"
   ]
  },
  {
   "cell_type": "code",
   "execution_count": 4,
   "metadata": {},
   "outputs": [],
   "source": [
    "# create a list of source instances\n",
    "sources = laplace.init_sources(src_coords, src_charges)\n",
    "\n",
    "# create a list of target instances\n",
    "targets = laplace.init_targets(trg_coords)"
   ]
  },
  {
   "cell_type": "markdown",
   "metadata": {},
   "source": [
    "### Create an LaplaceFMM instance"
   ]
  },
  {
   "cell_type": "code",
   "execution_count": 5,
   "metadata": {},
   "outputs": [],
   "source": [
    "fmm = laplace.LaplaceFMM()\n",
    "fmm.p = 10\n",
    "fmm.nsurf = 6*(fmm.p-1)*(fmm.p-1) + 2\n",
    "fmm.ncrit = 400\n",
    "fmm.depth = 4"
   ]
  },
  {
   "cell_type": "markdown",
   "metadata": {},
   "source": [
    "### Setup FMM\n",
    "\n",
    "Given sources, targets and FMM configurations, `setup()` builds the tree and interaction list and pre-compute invariant matrices.\n",
    "\n",
    "Set `skip_P2P` to `True` to skip near-field interactions for BEM applications."
   ]
  },
  {
   "cell_type": "code",
   "execution_count": 6,
   "metadata": {},
   "outputs": [],
   "source": [
    "skip_P2P = False\n",
    "tree = laplace.setup(sources, targets, fmm, skip_P2P)"
   ]
  },
  {
   "cell_type": "markdown",
   "metadata": {},
   "source": [
    "### Evaluate\n",
    "\n",
    "`evaluate()` triggers the evaluation and returns a $n_{trg} \\times 4$ `numpy.ndarray`.\n",
    "The $i$-th row of `trg_values` starts with the potential value of the $i$-th target, followed by its three gradient values."
   ]
  },
  {
   "cell_type": "code",
   "execution_count": 7,
   "metadata": {},
   "outputs": [
    {
     "name": "stdout",
     "output_type": "stream",
     "text": [
      "P2M                  : 2.0872800e-01\n",
      "M2M                  : 1.0536300e-01\n",
      "P2L                  : 7.2000000e-05\n",
      "M2P                  : 5.6000000e-05\n",
      "P2P                  : 4.2103000e-02\n",
      "M2L                  : 7.4878000e-01\n",
      "L2L                  : 9.9013000e-02\n",
      "L2P                  : 1.4872900e-01\n"
     ]
    }
   ],
   "source": [
    "trg_values = laplace.evaluate(tree, fmm)"
   ]
  },
  {
   "cell_type": "code",
   "execution_count": 8,
   "metadata": {},
   "outputs": [
    {
     "data": {
      "text/plain": [
       "array([ 7695.63176065,  3473.07102295, -1430.86648635,  5882.21385108])"
      ]
     },
     "execution_count": 8,
     "metadata": {},
     "output_type": "execute_result"
    }
   ],
   "source": [
    "trg_values[6]"
   ]
  },
  {
   "cell_type": "markdown",
   "metadata": {},
   "source": [
    "### Check Accuracy\n",
    "\n",
    "`fmm.verify(tree.leafs)` returns L2-norm the relative error of potential and gradient in a list. It only works when `skip_P2P` is set to `False`."
   ]
  },
  {
   "cell_type": "code",
   "execution_count": 9,
   "metadata": {},
   "outputs": [
    {
     "data": {
      "text/plain": [
       "[6.928890228592761e-10, 1.3233326176140564e-07]"
      ]
     },
     "execution_count": 9,
     "metadata": {},
     "output_type": "execute_result"
    }
   ],
   "source": [
    "fmm.verify(tree.leafs)"
   ]
  },
  {
   "cell_type": "markdown",
   "metadata": {},
   "source": [
    "### Update charges of sources and run FMM iteratively"
   ]
  },
  {
   "cell_type": "code",
   "execution_count": 10,
   "metadata": {},
   "outputs": [
    {
     "name": "stdout",
     "output_type": "stream",
     "text": [
      "---------- iteration 0 ----------\n",
      "P2M                  : 2.0134800e-01\n",
      "M2M                  : 1.0770800e-01\n",
      "P2L                  : 1.6200000e-03\n",
      "M2P                  : 5.6000000e-05\n",
      "P2P                  : 4.2351000e-02\n",
      "M2L                  : 7.3041700e-01\n",
      "L2L                  : 9.8867000e-02\n",
      "L2P                  : 1.4920200e-01\n",
      "Error:  [7.466645128068746e-10, 1.4655429658435553e-07]\n",
      "---------- iteration 1 ----------\n",
      "P2M                  : 1.4060100e-01\n",
      "M2M                  : 9.9754000e-02\n",
      "P2L                  : 7.1000000e-05\n",
      "M2P                  : 5.4000000e-05\n",
      "P2P                  : 4.0229000e-02\n",
      "M2L                  : 7.7383300e-01\n",
      "L2L                  : 1.0025900e-01\n",
      "L2P                  : 1.7057300e-01\n",
      "Error:  [6.584910011033258e-10, 1.2410547665183176e-07]\n",
      "---------- iteration 2 ----------\n",
      "P2M                  : 1.3778000e-01\n",
      "M2M                  : 1.0375200e-01\n",
      "P2L                  : 7.0000000e-05\n",
      "M2P                  : 5.1000000e-05\n",
      "P2P                  : 4.0150000e-02\n",
      "M2L                  : 7.6189300e-01\n",
      "L2L                  : 9.8463000e-02\n",
      "L2P                  : 1.5099900e-01\n",
      "Error:  [7.307237899507489e-10, 1.3590591488155248e-07]\n",
      "---------- iteration 3 ----------\n",
      "P2M                  : 1.4318300e-01\n",
      "M2M                  : 9.9645000e-02\n",
      "P2L                  : 7.3000000e-05\n",
      "M2P                  : 5.5000000e-05\n",
      "P2P                  : 4.4383000e-02\n",
      "M2L                  : 7.6651600e-01\n",
      "L2L                  : 1.0100300e-01\n",
      "L2P                  : 1.5496100e-01\n",
      "Error:  [6.966559606545646e-10, 1.3445122838462204e-07]\n",
      "---------- iteration 4 ----------\n",
      "P2M                  : 1.3961400e-01\n",
      "M2M                  : 1.0370700e-01\n",
      "P2L                  : 1.2100000e-04\n",
      "M2P                  : 5.7000000e-05\n",
      "P2P                  : 4.3355000e-02\n",
      "M2L                  : 7.6007300e-01\n",
      "L2L                  : 1.0219300e-01\n",
      "L2P                  : 1.4943500e-01\n",
      "Error:  [7.327944613610723e-10, 1.4473409918251193e-07]\n",
      "---------- iteration 5 ----------\n",
      "P2M                  : 1.4019800e-01\n",
      "M2M                  : 1.0490400e-01\n",
      "P2L                  : 7.1000000e-05\n",
      "M2P                  : 5.4000000e-05\n",
      "P2P                  : 4.0601000e-02\n",
      "M2L                  : 7.6896300e-01\n",
      "L2L                  : 1.0690500e-01\n",
      "L2P                  : 1.4645400e-01\n",
      "Error:  [7.418107620738388e-10, 1.4598298658245436e-07]\n",
      "---------- iteration 6 ----------\n",
      "P2M                  : 1.3580700e-01\n",
      "M2M                  : 1.0197600e-01\n",
      "P2L                  : 7.1000000e-05\n",
      "M2P                  : 4.1960000e-03\n",
      "P2P                  : 3.9500000e-02\n",
      "M2L                  : 7.4151200e-01\n",
      "L2L                  : 9.8778000e-02\n",
      "L2P                  : 1.5049700e-01\n",
      "Error:  [6.892808832697193e-10, 1.3204332219689793e-07]\n",
      "---------- iteration 7 ----------\n",
      "P2M                  : 1.5752300e-01\n",
      "M2M                  : 1.0935600e-01\n",
      "P2L                  : 7.1000000e-05\n",
      "M2P                  : 5.6000000e-05\n",
      "P2P                  : 4.1272000e-02\n",
      "M2L                  : 7.5862800e-01\n",
      "L2L                  : 1.0161000e-01\n",
      "L2P                  : 1.5300700e-01\n",
      "Error:  [6.845806951698726e-10, 1.325784854149398e-07]\n",
      "---------- iteration 8 ----------\n",
      "P2M                  : 1.4530900e-01\n",
      "M2M                  : 1.0739300e-01\n",
      "P2L                  : 7.3000000e-05\n",
      "M2P                  : 5.8000000e-05\n",
      "P2P                  : 3.8919000e-02\n",
      "M2L                  : 7.6716900e-01\n",
      "L2L                  : 9.8429000e-02\n",
      "L2P                  : 1.5552400e-01\n",
      "Error:  [6.878021734926897e-10, 1.3089878866969708e-07]\n",
      "---------- iteration 9 ----------\n",
      "P2M                  : 1.3862700e-01\n",
      "M2M                  : 1.0359500e-01\n",
      "P2L                  : 7.0000000e-05\n",
      "M2P                  : 1.0780000e-03\n",
      "P2P                  : 3.8302000e-02\n",
      "M2L                  : 7.9393200e-01\n",
      "L2L                  : 9.9246000e-02\n",
      "L2P                  : 1.4835000e-01\n",
      "Error:  [6.946857503971859e-10, 1.34765947096679e-07]\n"
     ]
    }
   ],
   "source": [
    "niters = 10\n",
    "\n",
    "for i in range(niters):\n",
    "    print('-'*10 + ' iteration {} '.format(i) + '-'*10)  # print divider between iterations\n",
    "    \n",
    "    src_charges = np.random.random(nsrcs)          # generate new random charges\n",
    "    laplace.update_charges(tree, src_charges)      # update charges\n",
    "    laplace.clear_values(tree)                     # clear values\n",
    "    trg_values = laplace.evaluate(tree, fmm)       # evaluate potentials\n",
    "\n",
    "    print(\"Error: \", fmm.verify(tree.leafs))       # check accuracy"
   ]
  },
  {
   "cell_type": "code",
   "execution_count": null,
   "metadata": {},
   "outputs": [],
   "source": []
  }
 ],
 "metadata": {
  "kernelspec": {
   "display_name": "Python 3",
   "language": "python",
   "name": "python3"
  },
  "language_info": {
   "codemirror_mode": {
    "name": "ipython",
    "version": 3
   },
   "file_extension": ".py",
   "mimetype": "text/x-python",
   "name": "python",
   "nbconvert_exporter": "python",
   "pygments_lexer": "ipython3",
   "version": "3.7.3"
  }
 },
 "nbformat": 4,
 "nbformat_minor": 2
}
