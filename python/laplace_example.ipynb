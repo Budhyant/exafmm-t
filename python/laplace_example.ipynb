{
 "cells": [
  {
   "cell_type": "code",
   "execution_count": 1,
   "metadata": {},
   "outputs": [],
   "source": [
    "import sys\n",
    "sys.path.append('../build')   # assume an out-of-source build\n",
    "\n",
    "import numpy as np\n",
    "import exafmm as fmm\n",
    "import exafmm.laplace as laplace"
   ]
  },
  {
   "cell_type": "code",
   "execution_count": 2,
   "metadata": {},
   "outputs": [
    {
     "data": {
      "text/plain": [
       "\"exafmm's submodule for Laplace kernel\""
      ]
     },
     "execution_count": 2,
     "metadata": {},
     "output_type": "execute_result"
    }
   ],
   "source": [
    "laplace.__doc__"
   ]
  },
  {
   "cell_type": "markdown",
   "metadata": {},
   "source": [
    "### Create sources and targets"
   ]
  },
  {
   "cell_type": "code",
   "execution_count": 3,
   "metadata": {},
   "outputs": [],
   "source": [
    "nsrcs = 100000\n",
    "ntrgs = 100000\n",
    "\n",
    "# generate random positions for particles\n",
    "src_coords = np.random.random((nsrcs, 3))\n",
    "trg_coords = np.random.random((nsrcs, 3))\n",
    "\n",
    "# generate random charges for sources\n",
    "src_charges = np.random.random(nsrcs)"
   ]
  },
  {
   "cell_type": "code",
   "execution_count": 4,
   "metadata": {},
   "outputs": [],
   "source": [
    "# create a list of source instances\n",
    "sources = laplace.init_sources(src_coords, src_charges)\n",
    "\n",
    "# create a list of target instances\n",
    "targets = laplace.init_targets(trg_coords)"
   ]
  },
  {
   "cell_type": "markdown",
   "metadata": {},
   "source": [
    "### Create a LaplaceFMM instance"
   ]
  },
  {
   "cell_type": "code",
   "execution_count": 5,
   "metadata": {},
   "outputs": [],
   "source": [
    "p = 10\n",
    "ncrit = 400\n",
    "depth = 4\n",
    "fmm = laplace.LaplaceFMM(p, ncrit, depth)"
   ]
  },
  {
   "cell_type": "markdown",
   "metadata": {},
   "source": [
    "### Setup FMM\n",
    "\n",
    "Given sources, targets and FMM configurations, `setup()` builds the tree and interaction list and pre-compute invariant matrices.\n",
    "\n",
    "Set `skip_P2P` to `True` to skip near-field interactions for BEM applications."
   ]
  },
  {
   "cell_type": "code",
   "execution_count": 6,
   "metadata": {},
   "outputs": [],
   "source": [
    "skip_P2P = False\n",
    "tree = laplace.setup(sources, targets, fmm, skip_P2P)"
   ]
  },
  {
   "cell_type": "markdown",
   "metadata": {},
   "source": [
    "### Evaluate\n",
    "\n",
    "`evaluate()` triggers the evaluation and returns a $n_{trg} \\times 4$ `numpy.ndarray`.\n",
    "The $i$-th row of `trg_values` starts with the potential value of the $i$-th target, followed by its three gradient values."
   ]
  },
  {
   "cell_type": "code",
   "execution_count": 7,
   "metadata": {},
   "outputs": [
    {
     "name": "stdout",
     "output_type": "stream",
     "text": [
      "P2M                  : 2.0449100e-01\n",
      "M2M                  : 1.0078900e-01\n",
      "P2L                  : 6.6000000e-05\n",
      "M2P                  : 4.4000000e-05\n",
      "P2P                  : 3.8443000e-02\n",
      "M2L                  : 7.8807900e-01\n",
      "L2L                  : 1.0230400e-01\n",
      "L2P                  : 1.4846400e-01\n"
     ]
    }
   ],
   "source": [
    "trg_values = laplace.evaluate(tree, fmm)"
   ]
  },
  {
   "cell_type": "code",
   "execution_count": 8,
   "metadata": {},
   "outputs": [
    {
     "data": {
      "text/plain": [
       "array([ 5458.58112562, -5598.38629587,  5838.7463581 ,  2345.01904127])"
      ]
     },
     "execution_count": 8,
     "metadata": {},
     "output_type": "execute_result"
    }
   ],
   "source": [
    "trg_values[6]"
   ]
  },
  {
   "cell_type": "markdown",
   "metadata": {},
   "source": [
    "### Check Accuracy\n",
    "\n",
    "`fmm.verify(tree.leafs)` returns L2-norm the relative error of potential and gradient in a list. It only works when `skip_P2P` is set to `False`."
   ]
  },
  {
   "cell_type": "code",
   "execution_count": 9,
   "metadata": {},
   "outputs": [
    {
     "data": {
      "text/plain": [
       "[3.129192145907721e-09, 2.3583016688134237e-07]"
      ]
     },
     "execution_count": 9,
     "metadata": {},
     "output_type": "execute_result"
    }
   ],
   "source": [
    "fmm.verify(tree.leafs)"
   ]
  },
  {
   "cell_type": "markdown",
   "metadata": {},
   "source": [
    "### Update charges of sources and run FMM iteratively"
   ]
  },
  {
   "cell_type": "code",
   "execution_count": 10,
   "metadata": {},
   "outputs": [
    {
     "name": "stdout",
     "output_type": "stream",
     "text": [
      "---------- iteration 0 ----------\n",
      "P2M                  : 1.8961500e-01\n",
      "M2M                  : 1.0455700e-01\n",
      "P2L                  : 6.6000000e-05\n",
      "M2P                  : 4.2000000e-05\n",
      "P2P                  : 4.2172000e-02\n",
      "M2L                  : 7.8405200e-01\n",
      "L2L                  : 9.5967000e-02\n",
      "L2P                  : 1.5680500e-01\n",
      "Error:  [2.9880783588163687e-09, 2.329412098002378e-07]\n",
      "---------- iteration 1 ----------\n",
      "P2M                  : 1.4056600e-01\n",
      "M2M                  : 9.9321000e-02\n",
      "P2L                  : 6.3000000e-05\n",
      "M2P                  : 4.2000000e-05\n",
      "P2P                  : 3.8437000e-02\n",
      "M2L                  : 7.9684300e-01\n",
      "L2L                  : 9.6931000e-02\n",
      "L2P                  : 1.4975100e-01\n",
      "Error:  [3.096014102210114e-09, 2.4003457180950724e-07]\n",
      "---------- iteration 2 ----------\n",
      "P2M                  : 1.4206700e-01\n",
      "M2M                  : 1.0191400e-01\n",
      "P2L                  : 6.4000000e-05\n",
      "M2P                  : 4.1000000e-05\n",
      "P2P                  : 3.8502000e-02\n",
      "M2L                  : 7.7724200e-01\n",
      "L2L                  : 9.8783000e-02\n",
      "L2P                  : 1.5044800e-01\n",
      "Error:  [3.1527226436195405e-09, 2.3846648121943896e-07]\n",
      "---------- iteration 3 ----------\n",
      "P2M                  : 1.3789700e-01\n",
      "M2M                  : 1.0315400e-01\n",
      "P2L                  : 1.4410000e-03\n",
      "M2P                  : 4.4000000e-05\n",
      "P2P                  : 3.8997000e-02\n",
      "M2L                  : 8.0483600e-01\n",
      "L2L                  : 9.8287000e-02\n",
      "L2P                  : 1.5062400e-01\n",
      "Error:  [3.043100897591589e-09, 2.3318783715291028e-07]\n",
      "---------- iteration 4 ----------\n",
      "P2M                  : 1.3785800e-01\n",
      "M2M                  : 1.0287900e-01\n",
      "P2L                  : 6.4000000e-05\n",
      "M2P                  : 4.3000000e-05\n",
      "P2P                  : 3.8802000e-02\n",
      "M2L                  : 8.0641100e-01\n",
      "L2L                  : 1.0027300e-01\n",
      "L2P                  : 1.4984100e-01\n",
      "Error:  [3.2215873271838182e-09, 2.4336351929214916e-07]\n",
      "---------- iteration 5 ----------\n",
      "P2M                  : 1.3820000e-01\n",
      "M2M                  : 1.0197800e-01\n",
      "P2L                  : 6.4000000e-05\n",
      "M2P                  : 4.3000000e-05\n",
      "P2P                  : 3.9181000e-02\n",
      "M2L                  : 7.7515800e-01\n",
      "L2L                  : 1.0354100e-01\n",
      "L2P                  : 1.4774900e-01\n",
      "Error:  [3.058769728270062e-09, 2.3413106391574284e-07]\n",
      "---------- iteration 6 ----------\n",
      "P2M                  : 1.3910500e-01\n",
      "M2M                  : 1.0055100e-01\n",
      "P2L                  : 6.4000000e-05\n",
      "M2P                  : 4.4000000e-05\n",
      "P2P                  : 4.2382000e-02\n",
      "M2L                  : 7.8661000e-01\n",
      "L2L                  : 9.9240000e-02\n",
      "L2P                  : 1.4905200e-01\n",
      "Error:  [3.091882144203308e-09, 2.328727550173818e-07]\n",
      "---------- iteration 7 ----------\n",
      "P2M                  : 1.4413500e-01\n",
      "M2M                  : 9.9493000e-02\n",
      "P2L                  : 6.2000000e-05\n",
      "M2P                  : 4.2000000e-05\n",
      "P2P                  : 4.0420000e-02\n",
      "M2L                  : 7.7048400e-01\n",
      "L2L                  : 9.8478000e-02\n",
      "L2P                  : 1.5039600e-01\n",
      "Error:  [3.0843513048252328e-09, 2.4028849925848534e-07]\n",
      "---------- iteration 8 ----------\n",
      "P2M                  : 1.4154400e-01\n",
      "M2M                  : 9.9994000e-02\n",
      "P2L                  : 6.6000000e-05\n",
      "M2P                  : 4.3000000e-05\n",
      "P2P                  : 3.8693000e-02\n",
      "M2L                  : 7.8864100e-01\n",
      "L2L                  : 1.0180400e-01\n",
      "L2P                  : 1.4892600e-01\n",
      "Error:  [3.1288685529592748e-09, 2.318228738467004e-07]\n",
      "---------- iteration 9 ----------\n",
      "P2M                  : 1.3641300e-01\n",
      "M2M                  : 1.0209100e-01\n",
      "P2L                  : 6.3000000e-05\n",
      "M2P                  : 4.1000000e-05\n",
      "P2P                  : 3.9045000e-02\n",
      "M2L                  : 7.6858600e-01\n",
      "L2L                  : 9.7445000e-02\n",
      "L2P                  : 1.4780300e-01\n",
      "Error:  [3.084001341084275e-09, 2.3107624500905424e-07]\n"
     ]
    }
   ],
   "source": [
    "niters = 10\n",
    "\n",
    "for i in range(niters):\n",
    "    print('-'*10 + ' iteration {} '.format(i) + '-'*10)  # print divider between iterations\n",
    "    \n",
    "    src_charges = np.random.random(nsrcs)          # generate new random charges\n",
    "    laplace.update_charges(tree, src_charges)      # update charges\n",
    "    laplace.clear_values(tree)                     # clear values\n",
    "    trg_values = laplace.evaluate(tree, fmm)       # evaluate potentials\n",
    "\n",
    "    print(\"Error: \", fmm.verify(tree.leafs))       # check accuracy"
   ]
  },
  {
   "cell_type": "code",
   "execution_count": null,
   "metadata": {},
   "outputs": [],
   "source": []
  }
 ],
 "metadata": {
  "kernelspec": {
   "display_name": "Python 3",
   "language": "python",
   "name": "python3"
  },
  "language_info": {
   "codemirror_mode": {
    "name": "ipython",
    "version": 3
   },
   "file_extension": ".py",
   "mimetype": "text/x-python",
   "name": "python",
   "nbconvert_exporter": "python",
   "pygments_lexer": "ipython3",
   "version": "3.7.3"
  }
 },
 "nbformat": 4,
 "nbformat_minor": 2
}
