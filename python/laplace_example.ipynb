{
 "cells": [
  {
   "cell_type": "code",
   "execution_count": 1,
   "metadata": {},
   "outputs": [],
   "source": [
    "import sys\n",
    "sys.path.append('../build')   # assume an out-of-source build\n",
    "import exafmm_laplace as fmm\n",
    "import numpy as np"
   ]
  },
  {
   "cell_type": "code",
   "execution_count": 2,
   "metadata": {},
   "outputs": [
    {
     "data": {
      "text/plain": [
       "\"exafmm's pybind11 module for Laplace kernel\""
      ]
     },
     "execution_count": 2,
     "metadata": {},
     "output_type": "execute_result"
    }
   ],
   "source": [
    "fmm.__doc__"
   ]
  },
  {
   "cell_type": "markdown",
   "metadata": {},
   "source": [
    "#### create sources and targets"
   ]
  },
  {
   "cell_type": "code",
   "execution_count": 3,
   "metadata": {},
   "outputs": [],
   "source": [
    "nsrcs = 100000\n",
    "ntrgs = 100000"
   ]
  },
  {
   "cell_type": "code",
   "execution_count": 4,
   "metadata": {},
   "outputs": [],
   "source": [
    "src_coords = np.random.random((nsrcs, 3))\n",
    "src_charges = np.random.random(nsrcs)\n",
    "trg_coords = np.random.random((ntrgs, 3))"
   ]
  },
  {
   "cell_type": "code",
   "execution_count": 5,
   "metadata": {},
   "outputs": [],
   "source": [
    "sources = fmm.init_sources(src_coords, src_charges)\n",
    "targets = fmm.init_targets(trg_coords)"
   ]
  },
  {
   "cell_type": "markdown",
   "metadata": {},
   "source": [
    "#### set FMM parameters"
   ]
  },
  {
   "cell_type": "code",
   "execution_count": 6,
   "metadata": {},
   "outputs": [],
   "source": [
    "p = 10       # expansion order\n",
    "ncrit = 100  # max number of bodies allow per leaf box\n",
    "fmm.configure(p, ncrit)"
   ]
  },
  {
   "cell_type": "markdown",
   "metadata": {},
   "source": [
    "#### build tree"
   ]
  },
  {
   "cell_type": "code",
   "execution_count": 7,
   "metadata": {},
   "outputs": [],
   "source": [
    "nodes = fmm.build_tree(sources, targets)"
   ]
  },
  {
   "cell_type": "markdown",
   "metadata": {},
   "source": [
    "#### build interaction lists"
   ]
  },
  {
   "cell_type": "code",
   "execution_count": 8,
   "metadata": {},
   "outputs": [],
   "source": [
    "nodes = fmm.build_list()"
   ]
  },
  {
   "cell_type": "markdown",
   "metadata": {},
   "source": [
    "#### check colleagues of a node (after creating the interaction list)"
   ]
  },
  {
   "cell_type": "code",
   "execution_count": 9,
   "metadata": {},
   "outputs": [
    {
     "data": {
      "text/plain": [
       "list"
      ]
     },
     "execution_count": 9,
     "metadata": {},
     "output_type": "execute_result"
    }
   ],
   "source": [
    "type(nodes[500].colleagues)   # list of nodes"
   ]
  },
  {
   "cell_type": "code",
   "execution_count": 10,
   "metadata": {},
   "outputs": [
    {
     "name": "stdout",
     "output_type": "stream",
     "text": [
      "[0.218748, 0.343748, 0.406247]\n",
      "0 [0.156248, 0.281248, 0.343747] 4 810\n",
      "1 [0.218748, 0.281248, 0.343747] 4 814\n",
      "2 [0.281249, 0.281248, 0.343747] 4 1034\n",
      "3 [0.156248, 0.343748, 0.343747] 4 812\n",
      "4 [0.218748, 0.343748, 0.343747] 4 816\n",
      "5 [0.281249, 0.343748, 0.343747] 4 1036\n",
      "6 [0.156248, 0.406249, 0.343747] 4 826\n",
      "7 [0.218748, 0.406249, 0.343747] 4 830\n",
      "8 [0.281249, 0.406249, 0.343747] 4 1050\n",
      "9 [0.156248, 0.281248, 0.406247] 4 817\n",
      "10 [0.218748, 0.281248, 0.406247] 4 821\n",
      "11 [0.281249, 0.281248, 0.406247] 4 1041\n",
      "12 [0.156248, 0.343748, 0.406247] 4 819\n",
      "13 [0.218748, 0.343748, 0.406247] 4 823\n",
      "14 [0.281249, 0.343748, 0.406247] 4 1043\n",
      "15 [0.156248, 0.406249, 0.406247] 4 833\n",
      "16 [0.218748, 0.406249, 0.406247] 4 837\n",
      "17 [0.281249, 0.406249, 0.406247] 4 1057\n",
      "18 [0.156248, 0.281248, 0.468748] 4 818\n",
      "19 [0.218748, 0.281248, 0.468748] 4 822\n",
      "20 [0.281249, 0.281248, 0.468748] 4 1042\n",
      "21 [0.156248, 0.343748, 0.468748] 4 820\n",
      "22 [0.218748, 0.343748, 0.468748] 4 824\n",
      "23 [0.281249, 0.343748, 0.468748] 4 1044\n",
      "24 [0.156248, 0.406249, 0.468748] 4 834\n",
      "25 [0.218748, 0.406249, 0.468748] 4 838\n",
      "26 [0.281249, 0.406249, 0.468748] 4 1058\n"
     ]
    }
   ],
   "source": [
    "print(nodes[500].x)\n",
    "\n",
    "for i, colleague in enumerate(nodes[500].colleagues):\n",
    "    print(i, colleague.x, colleague.level, colleague.key)"
   ]
  },
  {
   "cell_type": "markdown",
   "metadata": {},
   "source": [
    "Some nodes may not have all 27 colleagues. In that case, `len(colleagues)` is still 27, but the missing colleagues are filled with `None`. For example, the level 1 node `nodes[2]` only have 8 colleagues, other entries are `None`:"
   ]
  },
  {
   "cell_type": "code",
   "execution_count": 11,
   "metadata": {},
   "outputs": [
    {
     "name": "stdout",
     "output_type": "stream",
     "text": [
      "[None, None, None, None, None, None, None, None, None, None, None, None, <exafmm_laplace.Node object at 0x7f353c29bf48>, <exafmm_laplace.Node object at 0x7f353c29b3e8>, None, <exafmm_laplace.Node object at 0x7f353c29b880>, <exafmm_laplace.Node object at 0x7f353c29b848>, None, None, None, None, <exafmm_laplace.Node object at 0x7f353c29b810>, <exafmm_laplace.Node object at 0x7f353c29b7d8>, None, <exafmm_laplace.Node object at 0x7f353c29b688>, <exafmm_laplace.Node object at 0x7f353c29b650>, None]\n"
     ]
    }
   ],
   "source": [
    "print(nodes[2].colleagues)"
   ]
  },
  {
   "cell_type": "markdown",
   "metadata": {},
   "source": [
    "#### precompute"
   ]
  },
  {
   "cell_type": "code",
   "execution_count": 12,
   "metadata": {},
   "outputs": [],
   "source": [
    "fmm.precompute()"
   ]
  },
  {
   "cell_type": "markdown",
   "metadata": {},
   "source": [
    "#### evaluate potentials"
   ]
  },
  {
   "cell_type": "code",
   "execution_count": 13,
   "metadata": {},
   "outputs": [
    {
     "name": "stdout",
     "output_type": "stream",
     "text": [
      "P2M                  : 1.7291100e-01\n",
      "M2M                  : 2.0890200e-01\n",
      "P2L                  : 2.0300000e-03\n",
      "M2P                  : 3.1480000e-03\n",
      "P2P                  : 6.5590000e-02\n",
      "M2L                  : 1.2827290e+00\n",
      "L2L                  : 2.8032200e-01\n",
      "L2P                  : 1.8716100e-01\n"
     ]
    }
   ],
   "source": [
    "potentials = fmm.evaluate()"
   ]
  },
  {
   "cell_type": "code",
   "execution_count": 14,
   "metadata": {},
   "outputs": [
    {
     "data": {
      "text/plain": [
       "array([6384.41543068, 7598.61228647, 8922.61785413, 7989.88122861,\n",
       "       7727.27394521, 7039.23554334, 8554.48367265, 8949.34994619,\n",
       "       8274.83190597, 7776.58244945])"
      ]
     },
     "execution_count": 14,
     "metadata": {},
     "output_type": "execute_result"
    }
   ],
   "source": [
    "potentials[::10000]"
   ]
  },
  {
   "cell_type": "markdown",
   "metadata": {},
   "source": [
    "#### check accuracy"
   ]
  },
  {
   "cell_type": "code",
   "execution_count": 15,
   "metadata": {},
   "outputs": [
    {
     "name": "stdout",
     "output_type": "stream",
     "text": [
      "-------------- Error ---------------\n",
      "Potential Error      : 2.1312312e-09\n",
      "Gradient Error       : 1.8006497e-07\n"
     ]
    }
   ],
   "source": [
    "fmm.check_accuracy()"
   ]
  },
  {
   "cell_type": "markdown",
   "metadata": {},
   "source": [
    "#### update charges and run FMM iteratively"
   ]
  },
  {
   "cell_type": "code",
   "execution_count": 16,
   "metadata": {},
   "outputs": [
    {
     "name": "stdout",
     "output_type": "stream",
     "text": [
      "---------- iteration 0 ----------\n",
      "P2M                  : 1.7140700e-01\n",
      "M2M                  : 1.4644100e-01\n",
      "P2L                  : 2.1080000e-03\n",
      "M2P                  : 4.5310000e-03\n",
      "P2P                  : 6.7304000e-02\n",
      "M2L                  : 1.0163260e+00\n",
      "L2L                  : 1.4114000e-01\n",
      "L2P                  : 2.0792200e-01\n",
      "-------------- Error ---------------\n",
      "Potential Error      : 2.1043590e-09\n",
      "Gradient Error       : 1.7496228e-07\n",
      "---------- iteration 1 ----------\n",
      "P2M                  : 1.8065100e-01\n",
      "M2M                  : 2.1102900e-01\n",
      "P2L                  : 3.8690000e-03\n",
      "M2P                  : 3.7880000e-03\n",
      "P2P                  : 6.9853000e-02\n",
      "M2L                  : 1.2430870e+00\n",
      "L2L                  : 2.2302400e-01\n",
      "L2P                  : 2.3018100e-01\n",
      "-------------- Error ---------------\n",
      "Potential Error      : 2.0533422e-09\n",
      "Gradient Error       : 1.7227826e-07\n",
      "---------- iteration 2 ----------\n",
      "P2M                  : 1.8159300e-01\n",
      "M2M                  : 1.6422200e-01\n",
      "P2L                  : 3.5120000e-03\n",
      "M2P                  : 4.0050000e-03\n",
      "P2P                  : 6.2496000e-02\n",
      "M2L                  : 9.8597000e-01\n",
      "L2L                  : 1.9993200e-01\n",
      "L2P                  : 1.8956200e-01\n",
      "-------------- Error ---------------\n",
      "Potential Error      : 2.1102463e-09\n",
      "Gradient Error       : 1.7853049e-07\n",
      "---------- iteration 3 ----------\n",
      "P2M                  : 2.1278300e-01\n",
      "M2M                  : 2.2148700e-01\n",
      "P2L                  : 2.0290000e-03\n",
      "M2P                  : 1.8960000e-03\n",
      "P2P                  : 6.9119000e-02\n",
      "M2L                  : 1.2276430e+00\n",
      "L2L                  : 2.5633100e-01\n",
      "L2P                  : 1.7318800e-01\n",
      "-------------- Error ---------------\n",
      "Potential Error      : 2.1029952e-09\n",
      "Gradient Error       : 1.8117321e-07\n",
      "---------- iteration 4 ----------\n",
      "P2M                  : 1.7885100e-01\n",
      "M2M                  : 1.5943400e-01\n",
      "P2L                  : 2.3700000e-03\n",
      "M2P                  : 2.7010000e-03\n",
      "P2P                  : 5.9235000e-02\n",
      "M2L                  : 1.0332050e+00\n",
      "L2L                  : 2.0454400e-01\n",
      "L2P                  : 2.1451000e-01\n",
      "-------------- Error ---------------\n",
      "Potential Error      : 2.1235048e-09\n",
      "Gradient Error       : 1.7819798e-07\n",
      "---------- iteration 5 ----------\n",
      "P2M                  : 1.7186900e-01\n",
      "M2M                  : 2.0211800e-01\n",
      "P2L                  : 3.7500000e-03\n",
      "M2P                  : 2.0030000e-03\n",
      "P2P                  : 7.2888000e-02\n",
      "M2L                  : 1.2822720e+00\n",
      "--------------       Error ---------------\n",
      "Potential Error      : 2.1780748e-09\n",
      "Gradient Error       : 1.8101882e-07\n",
      "---------- iteration 6 ----------\n",
      "P2M                  : 1.8707900e-01\n",
      "M2M                  : 2.0241900e-01\n",
      "P2L                  : 3.7530000e-03\n",
      "M2P                  : 1.9050000e-03\n",
      "P2P                  : 7.2211000e-02\n",
      "M2L                  : 1.2400190e+00\n",
      "L2L                  : 2.5995600e-01\n",
      "L2P                  : 2.1183700e-01\n",
      "-------------- Error ---------------\n",
      "Potential Error      : 2.1058807e-09\n",
      "Gradient Error       : 1.7246460e-07\n",
      "---------- iteration 7 ----------\n",
      "P2M                  : 2.0369300e-01\n",
      "M2M                  : 2.6221400e-01\n",
      "P2L                  : 5.1080000e-03\n",
      "M2P                  : 1.7730000e-03\n",
      "P2P                  : 7.6908000e-02\n",
      "M2L                  : 1.2057370e+00\n",
      "L2L                  : 1.4344000e-01\n",
      "L2P                  : 1.8637100e-01\n",
      "-------------- Error ---------------\n",
      "Potential Error      : 2.0600395e-09\n",
      "Gradient Error       : 1.7479986e-07\n",
      "---------- iteration 8 ----------\n",
      "P2M                  : 1.6790300e-01\n",
      "M2M                  : 2.1022500e-01\n",
      "P2L                  : 2.6530000e-03\n",
      "M2P                  : 3.8680000e-03\n",
      "P2P                  : 7.0249000e-02\n",
      "M2L                  : 1.1571460e+00\n",
      "L2L                  : 2.2038300e-01\n",
      "L2P                  : 2.2698300e-01\n",
      "-------------- Error ---------------\n",
      "Potential Error      : 2.0702743e-09\n",
      "Gradient Error       : 1.7381712e-07\n",
      "---------- iteration 9 ----------\n",
      "P2M                  : 1.8374900e-01\n",
      "M2M                  : 2.2162700e-01\n",
      "P2L                  : 3.5130000e-03\n",
      "M2P                  : 3.5580000e-03\n",
      "P2P                  : 6.9876000e-02\n",
      "M2L                  : 1.0973430e+00\n",
      "L2L                  : 2.0936300e-01\n",
      "L2P                  : 1.8261400e-01\n",
      "-------------- Error ---------------\n",
      "Potential Error      : 2.0783927e-09\n",
      "Gradient Error       : 1.7292924e-07\n"
     ]
    }
   ],
   "source": [
    "niters = 10\n",
    "for i in range(niters):\n",
    "    print('-'*10 + ' iteration {} '.format(i) + '-'*10)  # print divider between iterations\n",
    "    src_charges = np.random.random(nsrcs)   # generate new random charges\n",
    "    fmm.update(src_charges)      # update charges\n",
    "    fmm.clear()                  # clear values\n",
    "    potentials = fmm.evaluate()  # evaluate potentials\n",
    "    fmm.check_accuracy()         # check accuracy"
   ]
  }
 ],
 "metadata": {
  "kernelspec": {
   "display_name": "Python 3",
   "language": "python",
   "name": "python3"
  },
  "language_info": {
   "codemirror_mode": {
    "name": "ipython",
    "version": 3
   },
   "file_extension": ".py",
   "mimetype": "text/x-python",
   "name": "python",
   "nbconvert_exporter": "python",
   "pygments_lexer": "ipython3",
   "version": "3.7.3"
  }
 },
 "nbformat": 4,
 "nbformat_minor": 2
}
