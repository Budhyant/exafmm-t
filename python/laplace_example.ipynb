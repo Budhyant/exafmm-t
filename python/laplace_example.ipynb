{
 "cells": [
  {
   "cell_type": "code",
   "execution_count": 1,
   "metadata": {},
   "outputs": [],
   "source": [
    "import sys\n",
    "sys.path.append('../build')   # assume an out-of-source build\n",
    "import exafmm_laplace as fmm\n",
    "import numpy as np"
   ]
  },
  {
   "cell_type": "code",
   "execution_count": 2,
   "metadata": {},
   "outputs": [
    {
     "data": {
      "text/plain": [
       "\"exafmm's pybind11 module for Laplace kernel\""
      ]
     },
     "execution_count": 2,
     "metadata": {},
     "output_type": "execute_result"
    }
   ],
   "source": [
    "fmm.__doc__"
   ]
  },
  {
   "cell_type": "markdown",
   "metadata": {},
   "source": [
    "#### create sources and targets"
   ]
  },
  {
   "cell_type": "code",
   "execution_count": 3,
   "metadata": {},
   "outputs": [],
   "source": [
    "nsrcs = 100000\n",
    "ntrgs = 100000"
   ]
  },
  {
   "cell_type": "code",
   "execution_count": 4,
   "metadata": {},
   "outputs": [],
   "source": [
    "src_coords = np.random.random((nsrcs, 3))\n",
    "src_charges = np.random.random(nsrcs)\n",
    "trg_coords = np.random.random((ntrgs, 3))"
   ]
  },
  {
   "cell_type": "code",
   "execution_count": 5,
   "metadata": {},
   "outputs": [],
   "source": [
    "sources = fmm.init_sources(src_coords, src_charges)\n",
    "targets = fmm.init_targets(trg_coords)"
   ]
  },
  {
   "cell_type": "markdown",
   "metadata": {},
   "source": [
    "#### set FMM parameters"
   ]
  },
  {
   "cell_type": "code",
   "execution_count": 6,
   "metadata": {},
   "outputs": [],
   "source": [
    "p = 10       # expansion order\n",
    "ncrit = 100  # max number of bodies allow per leaf box\n",
    "max_level = 4\n",
    "fmm.configure(p, ncrit, max_level)"
   ]
  },
  {
   "cell_type": "markdown",
   "metadata": {},
   "source": [
    "#### build tree"
   ]
  },
  {
   "cell_type": "code",
   "execution_count": 7,
   "metadata": {},
   "outputs": [],
   "source": [
    "nodes = fmm.build_tree(sources, targets)"
   ]
  },
  {
   "cell_type": "markdown",
   "metadata": {},
   "source": [
    "#### build interaction lists"
   ]
  },
  {
   "cell_type": "code",
   "execution_count": 8,
   "metadata": {},
   "outputs": [],
   "source": [
    "nodes = fmm.build_list()"
   ]
  },
  {
   "cell_type": "markdown",
   "metadata": {},
   "source": [
    "#### check colleagues of a node (after creating the interaction list)"
   ]
  },
  {
   "cell_type": "code",
   "execution_count": 12,
   "metadata": {},
   "outputs": [
    {
     "name": "stdout",
     "output_type": "stream",
     "text": [
      "37449\n",
      "<class 'list'>\n"
     ]
    }
   ],
   "source": [
    "print(len(nodes))\n",
    "print(type(nodes[500].colleagues))   # list of nodes"
   ]
  },
  {
   "cell_type": "code",
   "execution_count": 13,
   "metadata": {},
   "outputs": [
    {
     "name": "stdout",
     "output_type": "stream",
     "text": [
      "[0.046871, 0.171870, 0.203121]\n",
      "0 [0.015621, 0.140619, 0.171871] 5 4874\n",
      "1 [0.046871, 0.140619, 0.171871] 5 4878\n",
      "2 [0.078121, 0.140619, 0.171871] 5 4906\n",
      "3 [0.015621, 0.171870, 0.171871] 5 4876\n",
      "4 [0.046871, 0.171870, 0.171871] 5 4880\n",
      "5 [0.078121, 0.171870, 0.171871] 5 4908\n",
      "6 [0.015621, 0.203120, 0.171871] 5 4890\n",
      "7 [0.046871, 0.203120, 0.171871] 5 4894\n",
      "8 [0.078121, 0.203120, 0.171871] 5 4922\n",
      "9 [0.015621, 0.140619, 0.203121] 5 4881\n",
      "10 [0.046871, 0.140619, 0.203121] 5 4885\n",
      "11 [0.078121, 0.140619, 0.203121] 5 4913\n",
      "12 [0.015621, 0.171870, 0.203121] 5 4883\n",
      "13 [0.046871, 0.171870, 0.203121] 5 4887\n",
      "14 [0.078121, 0.171870, 0.203121] 5 4915\n",
      "15 [0.015621, 0.203120, 0.203121] 5 4897\n",
      "16 [0.046871, 0.203120, 0.203121] 5 4901\n",
      "17 [0.078121, 0.203120, 0.203121] 5 4929\n",
      "18 [0.015621, 0.140619, 0.234371] 5 4882\n",
      "19 [0.046871, 0.140619, 0.234371] 5 4886\n",
      "20 [0.078121, 0.140619, 0.234371] 5 4914\n",
      "21 [0.015621, 0.171870, 0.234371] 5 4884\n",
      "22 [0.046871, 0.171870, 0.234371] 5 4888\n",
      "23 [0.078121, 0.171870, 0.234371] 5 4916\n",
      "24 [0.015621, 0.203120, 0.234371] 5 4898\n",
      "25 [0.046871, 0.203120, 0.234371] 5 4902\n",
      "26 [0.078121, 0.203120, 0.234371] 5 4930\n"
     ]
    }
   ],
   "source": [
    "print(nodes[500].x)\n",
    "\n",
    "for i, colleague in enumerate(nodes[500].colleagues):\n",
    "    print(i, colleague.x, colleague.level, colleague.key)"
   ]
  },
  {
   "cell_type": "markdown",
   "metadata": {},
   "source": [
    "Some nodes may not have all 27 colleagues. In that case, `len(colleagues)` is still 27, but the missing colleagues are filled with `None`. For example, the level 1 node `nodes[2]` only have 8 colleagues, other entries are `None`:"
   ]
  },
  {
   "cell_type": "code",
   "execution_count": 14,
   "metadata": {},
   "outputs": [
    {
     "name": "stdout",
     "output_type": "stream",
     "text": [
      "[None, None, None, None, None, None, None, None, None, None, None, None, <exafmm_laplace.Node object at 0x7fe3f16df538>, <exafmm_laplace.Node object at 0x7fe3f16df570>, None, <exafmm_laplace.Node object at 0x7fe3f16df6f8>, <exafmm_laplace.Node object at 0x7fe3f16df848>, None, None, None, None, <exafmm_laplace.Node object at 0x7fe3f16df1f0>, <exafmm_laplace.Node object at 0x7fe3f16df7a0>, None, <exafmm_laplace.Node object at 0x7fe3f16dfdf8>, <exafmm_laplace.Node object at 0x7fe3f16dfdc0>, None]\n"
     ]
    }
   ],
   "source": [
    "print(nodes[2].colleagues)"
   ]
  },
  {
   "cell_type": "markdown",
   "metadata": {},
   "source": [
    "#### precompute"
   ]
  },
  {
   "cell_type": "code",
   "execution_count": 15,
   "metadata": {},
   "outputs": [],
   "source": [
    "fmm.precompute()"
   ]
  },
  {
   "cell_type": "markdown",
   "metadata": {},
   "source": [
    "#### evaluate potentials"
   ]
  },
  {
   "cell_type": "code",
   "execution_count": 16,
   "metadata": {},
   "outputs": [
    {
     "name": "stdout",
     "output_type": "stream",
     "text": [
      "P2M                  : 8.7409600e-01\n",
      "M2M                  : 6.8178900e-01\n",
      "P2L                  : 2.3700000e-03\n",
      "M2P                  : 1.9300000e-04\n",
      "P2P                  : 2.6337000e-02\n",
      "M2L                  : 6.0502100e+00\n",
      "L2L                  : 6.4793500e-01\n",
      "L2P                  : 8.8624900e-01\n"
     ]
    }
   ],
   "source": [
    "potentials = fmm.evaluate()"
   ]
  },
  {
   "cell_type": "code",
   "execution_count": 17,
   "metadata": {},
   "outputs": [
    {
     "data": {
      "text/plain": [
       "array([7341.54480379, 6263.88674676, 8901.03960242, 7451.66377499,\n",
       "       6217.8490947 , 7922.35937349, 7249.05769605, 8511.02993804,\n",
       "       6380.38664327, 6926.16142091])"
      ]
     },
     "execution_count": 17,
     "metadata": {},
     "output_type": "execute_result"
    }
   ],
   "source": [
    "potentials[::10000]"
   ]
  },
  {
   "cell_type": "markdown",
   "metadata": {},
   "source": [
    "#### check accuracy"
   ]
  },
  {
   "cell_type": "code",
   "execution_count": 18,
   "metadata": {},
   "outputs": [
    {
     "name": "stdout",
     "output_type": "stream",
     "text": [
      "-------------- Error ---------------\n",
      "Potential Error      : 3.2261323e-10\n",
      "Gradient Error       : 1.2922895e-07\n"
     ]
    }
   ],
   "source": [
    "fmm.check_accuracy()"
   ]
  },
  {
   "cell_type": "markdown",
   "metadata": {},
   "source": [
    "#### update charges and run FMM iteratively"
   ]
  },
  {
   "cell_type": "code",
   "execution_count": null,
   "metadata": {},
   "outputs": [],
   "source": [
    "niters = 10\n",
    "for i in range(niters):\n",
    "    print('-'*10 + ' iteration {} '.format(i) + '-'*10)  # print divider between iterations\n",
    "    src_charges = np.random.random(nsrcs)   # generate new random charges\n",
    "    fmm.update(src_charges)      # update charges\n",
    "    fmm.clear()                  # clear values\n",
    "    potentials = fmm.evaluate()  # evaluate potentials\n",
    "    fmm.check_accuracy()         # check accuracy"
   ]
  }
 ],
 "metadata": {
  "kernelspec": {
   "display_name": "Python 3",
   "language": "python",
   "name": "python3"
  },
  "language_info": {
   "codemirror_mode": {
    "name": "ipython",
    "version": 3
   },
   "file_extension": ".py",
   "mimetype": "text/x-python",
   "name": "python",
   "nbconvert_exporter": "python",
   "pygments_lexer": "ipython3",
   "version": "3.7.3"
  }
 },
 "nbformat": 4,
 "nbformat_minor": 2
}
