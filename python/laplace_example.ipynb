{
 "cells": [
  {
   "cell_type": "code",
   "execution_count": 1,
   "metadata": {},
   "outputs": [],
   "source": [
    "import sys\n",
    "sys.path.append('../build')   # assume an out-of-source build\n",
    "import exafmm.laplace as fmm\n",
    "import numpy as np"
   ]
  },
  {
   "cell_type": "code",
   "execution_count": 2,
   "metadata": {},
   "outputs": [
    {
     "data": {
      "text/plain": [
       "\"exafmm's submodule for Laplace kernel.\""
      ]
     },
     "execution_count": 2,
     "metadata": {},
     "output_type": "execute_result"
    }
   ],
   "source": [
    "fmm.__doc__"
   ]
  },
  {
   "cell_type": "markdown",
   "metadata": {},
   "source": [
    "#### create sources and targets"
   ]
  },
  {
   "cell_type": "code",
   "execution_count": 3,
   "metadata": {},
   "outputs": [],
   "source": [
    "nsrcs = 100000\n",
    "ntrgs = 100000"
   ]
  },
  {
   "cell_type": "code",
   "execution_count": 4,
   "metadata": {},
   "outputs": [],
   "source": [
    "src_coords = np.random.random((nsrcs, 3))\n",
    "src_charges = np.random.random(nsrcs)\n",
    "trg_coords = np.random.random((ntrgs, 3))"
   ]
  },
  {
   "cell_type": "code",
   "execution_count": 5,
   "metadata": {},
   "outputs": [],
   "source": [
    "sources = fmm.init_sources(src_coords, src_charges)\n",
    "targets = fmm.init_targets(trg_coords)"
   ]
  },
  {
   "cell_type": "markdown",
   "metadata": {},
   "source": [
    "#### set FMM parameters"
   ]
  },
  {
   "cell_type": "code",
   "execution_count": 6,
   "metadata": {},
   "outputs": [],
   "source": [
    "p = 10       # expansion order\n",
    "ncrit = 100  # max number of bodies allow per leaf box\n",
    "max_level = 4\n",
    "fmm.configure(p, ncrit, max_level)"
   ]
  },
  {
   "cell_type": "markdown",
   "metadata": {},
   "source": [
    "#### build tree"
   ]
  },
  {
   "cell_type": "code",
   "execution_count": 7,
   "metadata": {},
   "outputs": [],
   "source": [
    "nodes = fmm.build_tree(sources, targets)"
   ]
  },
  {
   "cell_type": "markdown",
   "metadata": {},
   "source": [
    "#### build interaction lists"
   ]
  },
  {
   "cell_type": "code",
   "execution_count": 8,
   "metadata": {},
   "outputs": [],
   "source": [
    "skip_P2P = True   # flag to skip near-field evaluation\n",
    "nodes = fmm.build_list(skip_P2P)"
   ]
  },
  {
   "cell_type": "markdown",
   "metadata": {},
   "source": [
    "#### check colleagues of a node (after creating the interaction list)"
   ]
  },
  {
   "cell_type": "code",
   "execution_count": 9,
   "metadata": {},
   "outputs": [
    {
     "name": "stdout",
     "output_type": "stream",
     "text": [
      "4681\n",
      "<class 'list'>\n"
     ]
    }
   ],
   "source": [
    "print(len(nodes))\n",
    "print(type(nodes[500].colleagues))   # list of nodes"
   ]
  },
  {
   "cell_type": "code",
   "execution_count": 10,
   "metadata": {},
   "outputs": [
    {
     "name": "stdout",
     "output_type": "stream",
     "text": [
      "[0.218747, 0.343750, 0.406248]\n",
      "0 [0.156247, 0.281250, 0.343747] 4 810\n",
      "1 [0.218747, 0.281250, 0.343747] 4 814\n",
      "2 [0.281247, 0.281250, 0.343747] 4 1034\n",
      "3 [0.156247, 0.343750, 0.343747] 4 812\n",
      "4 [0.218747, 0.343750, 0.343747] 4 816\n",
      "5 [0.281247, 0.343750, 0.343747] 4 1036\n",
      "6 [0.156247, 0.406250, 0.343747] 4 826\n",
      "7 [0.218747, 0.406250, 0.343747] 4 830\n",
      "8 [0.281247, 0.406250, 0.343747] 4 1050\n",
      "9 [0.156247, 0.281250, 0.406248] 4 817\n",
      "10 [0.218747, 0.281250, 0.406248] 4 821\n",
      "11 [0.281247, 0.281250, 0.406248] 4 1041\n",
      "12 [0.156247, 0.343750, 0.406248] 4 819\n",
      "13 [0.218747, 0.343750, 0.406248] 4 823\n",
      "14 [0.281247, 0.343750, 0.406248] 4 1043\n",
      "15 [0.156247, 0.406250, 0.406248] 4 833\n",
      "16 [0.218747, 0.406250, 0.406248] 4 837\n",
      "17 [0.281247, 0.406250, 0.406248] 4 1057\n",
      "18 [0.156247, 0.281250, 0.468748] 4 818\n",
      "19 [0.218747, 0.281250, 0.468748] 4 822\n",
      "20 [0.281247, 0.281250, 0.468748] 4 1042\n",
      "21 [0.156247, 0.343750, 0.468748] 4 820\n",
      "22 [0.218747, 0.343750, 0.468748] 4 824\n",
      "23 [0.281247, 0.343750, 0.468748] 4 1044\n",
      "24 [0.156247, 0.406250, 0.468748] 4 834\n",
      "25 [0.218747, 0.406250, 0.468748] 4 838\n",
      "26 [0.281247, 0.406250, 0.468748] 4 1058\n"
     ]
    }
   ],
   "source": [
    "print(nodes[500].x)\n",
    "\n",
    "for i, colleague in enumerate(nodes[500].colleagues):\n",
    "    print(i, colleague.x, colleague.level, colleague.key)"
   ]
  },
  {
   "cell_type": "markdown",
   "metadata": {},
   "source": [
    "Some nodes may not have all 27 colleagues. In that case, `len(colleagues)` is still 27, but the missing colleagues are filled with `None`. For example, the level 1 node `nodes[2]` only have 8 colleagues, other entries are `None`:"
   ]
  },
  {
   "cell_type": "code",
   "execution_count": 11,
   "metadata": {},
   "outputs": [
    {
     "name": "stdout",
     "output_type": "stream",
     "text": [
      "[None, None, None, None, None, None, None, None, None, None, None, None, <exafmm.laplace.Node object at 0x7fe16805c3b0>, <exafmm.laplace.Node object at 0x7fe145243d18>, None, <exafmm.laplace.Node object at 0x7fe145243d88>, <exafmm.laplace.Node object at 0x7fe145243dc0>, None, None, None, None, <exafmm.laplace.Node object at 0x7fe145243df8>, <exafmm.laplace.Node object at 0x7fe145243e30>, None, <exafmm.laplace.Node object at 0x7fe145243ce0>, <exafmm.laplace.Node object at 0x7fe145243ea0>, None]\n"
     ]
    }
   ],
   "source": [
    "print(nodes[2].colleagues)"
   ]
  },
  {
   "cell_type": "markdown",
   "metadata": {},
   "source": [
    "#### precompute"
   ]
  },
  {
   "cell_type": "code",
   "execution_count": 12,
   "metadata": {},
   "outputs": [],
   "source": [
    "fmm.precompute()"
   ]
  },
  {
   "cell_type": "markdown",
   "metadata": {},
   "source": [
    "#### evaluate potentials"
   ]
  },
  {
   "cell_type": "code",
   "execution_count": 13,
   "metadata": {},
   "outputs": [
    {
     "name": "stdout",
     "output_type": "stream",
     "text": [
      "P2M                  : 8.5529000e-02\n",
      "M2M                  : 1.0778600e-01\n",
      "P2L                  : 4.0300000e-04\n",
      "M2P                  : 1.8610000e-03\n",
      "P2P                  : 3.3400000e-04\n",
      "M2L                  : 5.8869200e-01\n",
      "L2L                  : 9.9823000e-02\n",
      "L2P                  : 9.3295000e-02\n"
     ]
    }
   ],
   "source": [
    "potentials = fmm.evaluate()"
   ]
  },
  {
   "cell_type": "code",
   "execution_count": 14,
   "metadata": {},
   "outputs": [
    {
     "data": {
      "text/plain": [
       "array([5954.45925253, 6991.37239948, 6132.82356837, 6518.49023592,\n",
       "       8017.81772947, 8772.72503922, 7245.22883524, 7565.21061384,\n",
       "       7461.32977143, 7654.77503667])"
      ]
     },
     "execution_count": 14,
     "metadata": {},
     "output_type": "execute_result"
    }
   ],
   "source": [
    "potentials[::10000]"
   ]
  },
  {
   "cell_type": "markdown",
   "metadata": {},
   "source": [
    "#### check accuracy\n",
    "\n",
    "For now, this is only valid when skip_P2P is disabled."
   ]
  },
  {
   "cell_type": "code",
   "execution_count": 15,
   "metadata": {},
   "outputs": [
    {
     "name": "stdout",
     "output_type": "stream",
     "text": [
      "-------------- Error ---------------\n",
      "Potential Error      : 3.6760395e-02\n",
      "Gradient Error       : 1.4845553e-01\n"
     ]
    }
   ],
   "source": [
    "fmm.check_accuracy()"
   ]
  },
  {
   "cell_type": "markdown",
   "metadata": {},
   "source": [
    "#### update charges and run FMM iteratively"
   ]
  },
  {
   "cell_type": "code",
   "execution_count": null,
   "metadata": {},
   "outputs": [],
   "source": [
    "niters = 10\n",
    "for i in range(niters):\n",
    "    print('-'*10 + ' iteration {} '.format(i) + '-'*10)  # print divider between iterations\n",
    "    src_charges = np.random.random(nsrcs)   # generate new random charges\n",
    "    fmm.update(src_charges)      # update charges\n",
    "    fmm.clear()                  # clear values\n",
    "    potentials = fmm.evaluate()  # evaluate potentials\n",
    "    fmm.check_accuracy()         # check accuracy"
   ]
  }
 ],
 "metadata": {
  "kernelspec": {
   "display_name": "Python 3",
   "language": "python",
   "name": "python3"
  },
  "language_info": {
   "codemirror_mode": {
    "name": "ipython",
    "version": 3
   },
   "file_extension": ".py",
   "mimetype": "text/x-python",
   "name": "python",
   "nbconvert_exporter": "python",
   "pygments_lexer": "ipython3",
   "version": "3.6.8"
  }
 },
 "nbformat": 4,
 "nbformat_minor": 2
}
