{
 "cells": [
  {
   "cell_type": "code",
   "execution_count": 1,
   "metadata": {},
   "outputs": [],
   "source": [
    "import sys\n",
    "sys.path.append('../build')   # assume an out-of-source build\n",
    "import exafmm_laplace as fmm\n",
    "import numpy as np"
   ]
  },
  {
   "cell_type": "code",
   "execution_count": 2,
   "metadata": {},
   "outputs": [
    {
     "data": {
      "text/plain": [
       "\"exafmm's pybind11 module for Laplace kernel\""
      ]
     },
     "execution_count": 2,
     "metadata": {},
     "output_type": "execute_result"
    }
   ],
   "source": [
    "fmm.__doc__"
   ]
  },
  {
   "cell_type": "markdown",
   "metadata": {},
   "source": [
    "#### create sources and targets"
   ]
  },
  {
   "cell_type": "code",
   "execution_count": 3,
   "metadata": {},
   "outputs": [],
   "source": [
    "nsrcs = 100000\n",
    "ntrgs = 100000"
   ]
  },
  {
   "cell_type": "code",
   "execution_count": 4,
   "metadata": {},
   "outputs": [],
   "source": [
    "src_coords = np.random.random((nsrcs, 3))\n",
    "src_charges = np.random.random(nsrcs)\n",
    "trg_coords = np.random.random((ntrgs, 3))"
   ]
  },
  {
   "cell_type": "code",
   "execution_count": 5,
   "metadata": {},
   "outputs": [],
   "source": [
    "sources = fmm.init_sources(src_coords, src_charges)\n",
    "targets = fmm.init_targets(trg_coords)"
   ]
  },
  {
   "cell_type": "markdown",
   "metadata": {},
   "source": [
    "#### set FMM parameters"
   ]
  },
  {
   "cell_type": "code",
   "execution_count": 6,
   "metadata": {},
   "outputs": [],
   "source": [
    "p = 10       # expansion order\n",
    "ncrit = 100  # max number of bodies allow per leaf box\n",
    "fmm.configure(p, ncrit)"
   ]
  },
  {
   "cell_type": "markdown",
   "metadata": {},
   "source": [
    "#### build tree"
   ]
  },
  {
   "cell_type": "code",
   "execution_count": 7,
   "metadata": {},
   "outputs": [],
   "source": [
    "nodes = fmm.build_tree(sources, targets)"
   ]
  },
  {
   "cell_type": "markdown",
   "metadata": {},
   "source": [
    "#### build interaction lists"
   ]
  },
  {
   "cell_type": "code",
   "execution_count": 8,
   "metadata": {},
   "outputs": [],
   "source": [
    "fmm.build_list()"
   ]
  },
  {
   "cell_type": "markdown",
   "metadata": {},
   "source": [
    "#### precompute"
   ]
  },
  {
   "cell_type": "code",
   "execution_count": 9,
   "metadata": {},
   "outputs": [],
   "source": [
    "fmm.precompute()"
   ]
  },
  {
   "cell_type": "markdown",
   "metadata": {},
   "source": [
    "#### evaluate potentials"
   ]
  },
  {
   "cell_type": "code",
   "execution_count": 10,
   "metadata": {},
   "outputs": [
    {
     "name": "stdout",
     "output_type": "stream",
     "text": [
      "P2M                  : 1.1798500e-01\n",
      "M2M                  : 8.7798000e-02\n",
      "P2L                  : 2.5130000e-03\n",
      "M2P                  : 1.7340000e-03\n",
      "P2P                  : 4.5462000e-02\n",
      "M2L                  : 6.5573000e-01\n",
      "L2L                  : 8.3873000e-02\n",
      "L2P                  : 1.3397600e-01\n"
     ]
    }
   ],
   "source": [
    "potentials = fmm.evaluate()"
   ]
  },
  {
   "cell_type": "code",
   "execution_count": 11,
   "metadata": {},
   "outputs": [
    {
     "data": {
      "text/plain": [
       "array([6548.90377095, 8533.81412822, 9131.76140651, 8068.85996499,\n",
       "       7398.88588199, 8137.02006689, 7191.33871288, 6821.53451296,\n",
       "       7364.76982343, 7256.16475538])"
      ]
     },
     "execution_count": 11,
     "metadata": {},
     "output_type": "execute_result"
    }
   ],
   "source": [
    "potentials[::10000]"
   ]
  },
  {
   "cell_type": "markdown",
   "metadata": {},
   "source": [
    "#### check accuracy"
   ]
  },
  {
   "cell_type": "code",
   "execution_count": 12,
   "metadata": {},
   "outputs": [
    {
     "name": "stdout",
     "output_type": "stream",
     "text": [
      "-------------- Error ---------------\n",
      "Potential Error      : 3.3682917e-09\n",
      "Gradient Error       : 2.3777205e-07\n"
     ]
    }
   ],
   "source": [
    "fmm.check_accuracy()"
   ]
  },
  {
   "cell_type": "markdown",
   "metadata": {},
   "source": [
    "#### update charges and run FMM iteratively"
   ]
  },
  {
   "cell_type": "code",
   "execution_count": 13,
   "metadata": {},
   "outputs": [
    {
     "name": "stdout",
     "output_type": "stream",
     "text": [
      "---------- iteration 0 ----------\n",
      "P2M                  : 1.2372600e-01\n",
      "M2M                  : 8.8194000e-02\n",
      "P2L                  : 5.9000000e-05\n",
      "M2P                  : 1.3580000e-03\n",
      "P2P                  : 4.3553000e-02\n",
      "M2L                  : 6.5925700e-01\n",
      "L2L                  : 8.5429000e-02\n",
      "L2P                  : 1.3093600e-01\n",
      "-------------- Error ---------------\n",
      "Potential Error      : 3.3299854e-09\n",
      "Gradient Error       : 2.3396321e-07\n",
      "---------- iteration 1 ----------\n",
      "P2M                  : 1.1902700e-01\n",
      "M2M                  : 9.2122000e-02\n",
      "P2L                  : 1.9840000e-03\n",
      "M2P                  : 2.9070000e-03\n",
      "P2P                  : 4.4828000e-02\n",
      "M2L                  : 6.5886000e-01\n",
      "L2L                  : 8.4513000e-02\n",
      "L2P                  : 1.3146500e-01\n",
      "-------------- Error ---------------\n",
      "Potential Error      : 3.2325451e-09\n",
      "Gradient Error       : 2.2718251e-07\n",
      "---------- iteration 2 ----------\n",
      "P2M                  : 1.2336500e-01\n",
      "M2M                  : 8.9268000e-02\n",
      "P2L                  : 6.1000000e-05\n",
      "M2P                  : 1.6710000e-03\n",
      "P2P                  : 4.4249000e-02\n",
      "M2L                  : 6.6811500e-01\n",
      "L2L                  : 8.2802000e-02\n",
      "L2P                  : 1.3114400e-01\n",
      "-------------- Error ---------------\n",
      "Potential Error      : 3.3574196e-09\n",
      "Gradient Error       : 2.3282734e-07\n",
      "---------- iteration 3 ----------\n",
      "P2M                  : 1.1794700e-01\n",
      "M2M                  : 9.1180000e-02\n",
      "P2L                  : 2.9970000e-03\n",
      "M2P                  : 1.9400000e-03\n",
      "P2P                  : 4.6393000e-02\n",
      "M2L                  : 6.6016000e-01\n",
      "L2L                  : 8.5114000e-02\n",
      "L2P                  : 1.3067800e-01\n",
      "-------------- Error ---------------\n",
      "Potential Error      : 3.5081535e-09\n",
      "Gradient Error       : 2.4485847e-07\n",
      "---------- iteration 4 ----------\n",
      "P2M                  : 1.1922400e-01\n",
      "M2M                  : 8.8904000e-02\n",
      "P2L                  : 1.4700000e-03\n",
      "M2P                  : 1.1570000e-03\n",
      "P2P                  : 4.3600000e-02\n",
      "M2L                  : 6.5857600e-01\n",
      "L2L                  : 8.6838000e-02\n",
      "L2P                  : 1.3741900e-01\n",
      "-------------- Error ---------------\n",
      "Potential Error      : 3.2546052e-09\n",
      "Gradient Error       : 2.2408163e-07\n",
      "---------- iteration 5 ----------\n",
      "P2M                  : 1.1831600e-01\n",
      "M2M                  : 8.6550000e-02\n",
      "P2L                  : 1.3480000e-03\n",
      "M2P                  : 1.0710000e-03\n",
      "P2P                  : 4.3545000e-02\n",
      "M2L                  : 6.6094300e-01\n",
      "L2L                  : 8.3919000e-02\n",
      "L2P                  : 1.3129900e-01\n",
      "-------------- Error ---------------\n",
      "Potential Error      : 3.3641818e-09\n",
      "Gradient Error       : 2.3686864e-07\n",
      "---------- iteration 6 ----------\n",
      "P2M                  : 1.1811600e-01\n",
      "M2M                  : 9.4913000e-02\n",
      "P2L                  : 5.7000000e-05\n",
      "M2P                  : 1.8580000e-03\n",
      "P2P                  : 5.3557000e-02\n",
      "M2L                  : 6.6158200e-01\n",
      "L2L                  : 8.4553000e-02\n",
      "L2P                  : 1.3110600e-01\n",
      "-------------- Error ---------------\n",
      "Potential Error      : 3.4206550e-09\n",
      "Gradient Error       : 2.3890836e-07\n",
      "---------- iteration 7 ----------\n",
      "P2M                  : 1.1866400e-01\n",
      "M2M                  : 8.8893000e-02\n",
      "P2L                  : 1.7230000e-03\n",
      "M2P                  : 1.1480000e-03\n",
      "P2P                  : 4.4697000e-02\n",
      "M2L                  : 6.6742300e-01\n",
      "L2L                  : 8.5280000e-02\n",
      "L2P                  : 1.3174900e-01\n",
      "-------------- Error ---------------\n",
      "Potential Error      : 3.3724302e-09\n",
      "Gradient Error       : 2.3811366e-07\n",
      "---------- iteration 8 ----------\n",
      "P2M                  : 1.2029800e-01\n",
      "M2M                  : 8.9384000e-02\n",
      "P2L                  : 1.7090000e-03\n",
      "M2P                  : 2.8540000e-03\n",
      "P2P                  : 4.7332000e-02\n",
      "M2L                  : 6.6470100e-01\n",
      "L2L                  : 8.2754000e-02\n",
      "L2P                  : 1.3074900e-01\n",
      "-------------- Error ---------------\n",
      "Potential Error      : 3.3599627e-09\n",
      "Gradient Error       : 2.4192039e-07\n",
      "---------- iteration 9 ----------\n",
      "P2M                  : 1.1854300e-01\n",
      "M2M                  : 8.9830000e-02\n",
      "P2L                  : 5.8000000e-05\n",
      "M2P                  : 2.2360000e-03\n",
      "P2P                  : 4.4692000e-02\n",
      "M2L                  : 6.6772700e-01\n",
      "L2L                  : 8.3877000e-02\n",
      "L2P                  : 1.4144500e-01\n",
      "-------------- Error ---------------\n",
      "Potential Error      : 3.3531282e-09\n",
      "Gradient Error       : 2.3677268e-07\n"
     ]
    }
   ],
   "source": [
    "niters = 10\n",
    "for i in range(niters):\n",
    "    print('-'*10 + ' iteration {} '.format(i) + '-'*10)  # print divider between iterations\n",
    "    src_charges = np.random.random(nsrcs)   # generate new random charges\n",
    "    fmm.update(src_charges)      # update charges\n",
    "    fmm.clear()                  # clear values\n",
    "    potentials = fmm.evaluate()  # evaluate potentials\n",
    "    fmm.check_accuracy()         # check accuracy"
   ]
  }
 ],
 "metadata": {
  "kernelspec": {
   "display_name": "Python 3",
   "language": "python",
   "name": "python3"
  },
  "language_info": {
   "codemirror_mode": {
    "name": "ipython",
    "version": 3
   },
   "file_extension": ".py",
   "mimetype": "text/x-python",
   "name": "python",
   "nbconvert_exporter": "python",
   "pygments_lexer": "ipython3",
   "version": "3.7.3"
  }
 },
 "nbformat": 4,
 "nbformat_minor": 2
}
