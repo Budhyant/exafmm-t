{
 "cells": [
  {
   "cell_type": "code",
   "execution_count": 1,
   "metadata": {},
   "outputs": [],
   "source": [
    "import sys\n",
    "sys.path.append('../build')   # assume an out-of-source build\n",
    "\n",
    "import numpy as np\n",
    "import exafmm as fmm\n",
    "import exafmm.helmholtz as helmholtz"
   ]
  },
  {
   "cell_type": "code",
   "execution_count": 2,
   "metadata": {},
   "outputs": [
    {
     "data": {
      "text/plain": [
       "\"exafmm's submodule for Helmholtz kernel\""
      ]
     },
     "execution_count": 2,
     "metadata": {},
     "output_type": "execute_result"
    }
   ],
   "source": [
    "helmholtz.__doc__"
   ]
  },
  {
   "cell_type": "markdown",
   "metadata": {},
   "source": [
    "### Create sources and targets"
   ]
  },
  {
   "cell_type": "code",
   "execution_count": 3,
   "metadata": {},
   "outputs": [],
   "source": [
    "nsrcs = 100000\n",
    "ntrgs = 100000\n",
    "\n",
    "# generate random positions for particles\n",
    "src_coords = np.random.random((nsrcs, 3))\n",
    "trg_coords = np.random.random((nsrcs, 3))\n",
    "\n",
    "# generate random charges for sources\n",
    "src_charges = np.zeros(nsrcs, dtype=np.complex_)\n",
    "src_charges.real = np.random.random(nsrcs)\n",
    "src_charges.imag = np.random.random(nsrcs)"
   ]
  },
  {
   "cell_type": "code",
   "execution_count": 4,
   "metadata": {},
   "outputs": [],
   "source": [
    "# create a list of source instances\n",
    "sources = helmholtz.init_sources(src_coords, src_charges)\n",
    "\n",
    "# create a list of target instances\n",
    "targets = helmholtz.init_targets(trg_coords)"
   ]
  },
  {
   "cell_type": "markdown",
   "metadata": {},
   "source": [
    "### Create an LaplaceFMM instance"
   ]
  },
  {
   "cell_type": "code",
   "execution_count": 5,
   "metadata": {},
   "outputs": [],
   "source": [
    "fmm = helmholtz.HelmholtzFMM()\n",
    "fmm.p = 10\n",
    "fmm.nsurf = 6*(fmm.p-1)*(fmm.p-1) + 2\n",
    "fmm.ncrit = 400\n",
    "fmm.depth = 4\n",
    "fmm.wavek = 10"
   ]
  },
  {
   "cell_type": "markdown",
   "metadata": {},
   "source": [
    "### Setup FMM\n",
    "\n",
    "Given sources, targets and FMM configurations, `setup()` builds the tree and interaction list and pre-compute invariant matrices.\n",
    "\n",
    "Set `skip_P2P` to `True` to skip near-field interactions for BEM applications."
   ]
  },
  {
   "cell_type": "code",
   "execution_count": 6,
   "metadata": {},
   "outputs": [],
   "source": [
    "skip_P2P = False\n",
    "tree = helmholtz.setup(sources, targets, fmm, skip_P2P)"
   ]
  },
  {
   "cell_type": "markdown",
   "metadata": {},
   "source": [
    "### Evaluate\n",
    "\n",
    "`evaluate()` triggers the evaluation and returns a $n_{trg} \\times 4$ `numpy.ndarray`.\n",
    "The $i$-th row of `trg_values` starts with the potential value of the $i$-th target, followed by its three gradient values."
   ]
  },
  {
   "cell_type": "code",
   "execution_count": 7,
   "metadata": {},
   "outputs": [
    {
     "name": "stdout",
     "output_type": "stream",
     "text": [
      "P2M                  : 7.1251900e-01\n",
      "M2M                  : 3.7610100e-01\n",
      "P2L                  : 1.0300000e-04\n",
      "M2P                  : 2.4810000e-03\n",
      "P2P                  : 4.6419700e-01\n",
      "M2L                  : 1.8297730e+00\n",
      "L2L                  : 3.3043100e-01\n",
      "L2P                  : 7.7763700e-01\n"
     ]
    }
   ],
   "source": [
    "trg_values = helmholtz.evaluate(tree, fmm)"
   ]
  },
  {
   "cell_type": "code",
   "execution_count": 8,
   "metadata": {},
   "outputs": [
    {
     "data": {
      "text/plain": [
       "array([-1004.07354653  -60.25727442j,   751.05914129+1040.77856515j,\n",
       "       -1764.52385118 +715.31193763j,  4312.75412871-3396.27169089j])"
      ]
     },
     "execution_count": 8,
     "metadata": {},
     "output_type": "execute_result"
    }
   ],
   "source": [
    "trg_values[6]"
   ]
  },
  {
   "cell_type": "markdown",
   "metadata": {},
   "source": [
    "### Check Accuracy\n",
    "\n",
    "`fmm.verify(tree.leafs)` returns L2-norm the relative error of potential and gradient in a list. It only works when `skip_P2P` is set to `False`."
   ]
  },
  {
   "cell_type": "code",
   "execution_count": 9,
   "metadata": {},
   "outputs": [
    {
     "data": {
      "text/plain": [
       "[6.846847632469516e-08, 1.1168061828349136e-06]"
      ]
     },
     "execution_count": 9,
     "metadata": {},
     "output_type": "execute_result"
    }
   ],
   "source": [
    "fmm.verify(tree.leafs)"
   ]
  },
  {
   "cell_type": "markdown",
   "metadata": {},
   "source": [
    "### Update charges of sources and run FMM iteratively"
   ]
  },
  {
   "cell_type": "code",
   "execution_count": 10,
   "metadata": {},
   "outputs": [
    {
     "name": "stdout",
     "output_type": "stream",
     "text": [
      "---------- iteration 0 ----------\n",
      "P2M                  : 7.0362100e-01\n",
      "M2M                  : 3.7836200e-01\n",
      "P2L                  : 1.1200000e-04\n",
      "M2P                  : 2.5960000e-03\n",
      "P2P                  : 4.6268300e-01\n",
      "M2L                  : 1.8045100e+00\n",
      "L2L                  : 3.3383000e-01\n",
      "L2P                  : 7.7000300e-01\n",
      "Error:  [6.582410878028779e-08, 1.0706826081656837e-06]\n",
      "---------- iteration 1 ----------\n",
      "P2M                  : 7.0671300e-01\n",
      "M2M                  : 3.3134700e-01\n",
      "P2L                  : 9.8000000e-05\n",
      "M2P                  : 3.9000000e-05\n",
      "P2P                  : 4.6973400e-01\n",
      "M2L                  : 1.8259220e+00\n",
      "L2L                  : 3.2764400e-01\n",
      "L2P                  : 7.9791600e-01\n",
      "Error:  [7.349900310250513e-08, 1.1672375514191189e-06]\n",
      "---------- iteration 2 ----------\n",
      "P2M                  : 8.5024400e-01\n",
      "M2M                  : 3.7529800e-01\n",
      "P2L                  : 9.5000000e-05\n",
      "M2P                  : 5.6000000e-05\n",
      "P2P                  : 4.7423000e-01\n",
      "M2L                  : 1.8425230e+00\n",
      "L2L                  : 3.2943600e-01\n",
      "L2P                  : 7.5360300e-01\n",
      "Error:  [6.662438895635677e-08, 1.0916540395359244e-06]\n",
      "---------- iteration 3 ----------\n",
      "P2M                  : 7.0938800e-01\n",
      "M2M                  : 3.4939500e-01\n",
      "P2L                  : 3.1700000e-04\n",
      "M2P                  : 1.0200000e-04\n",
      "P2P                  : 4.7325000e-01\n",
      "M2L                  : 1.8422550e+00\n",
      "L2L                  : 3.2443100e-01\n",
      "L2P                  : 7.8722300e-01\n",
      "Error:  [6.750779217088586e-08, 1.0813682138874526e-06]\n",
      "---------- iteration 4 ----------\n",
      "P2M                  : 7.1118400e-01\n",
      "M2M                  : 3.2996400e-01\n",
      "P2L                  : 1.1100000e-04\n",
      "M2P                  : 4.2000000e-05\n",
      "P2P                  : 4.9493300e-01\n",
      "M2L                  : 1.8655060e+00\n",
      "L2L                  : 3.6363200e-01\n",
      "L2P                  : 7.5590200e-01\n",
      "Error:  [6.761262351430491e-08, 1.0996723753782463e-06]\n",
      "---------- iteration 5 ----------\n",
      "P2M                  : 7.3244800e-01\n",
      "M2M                  : 3.4223700e-01\n",
      "P2L                  : 1.2200000e-04\n",
      "M2P                  : 5.4000000e-05\n",
      "P2P                  : 4.7504800e-01\n",
      "M2L                  : 1.8611470e+00\n",
      "L2L                  : 3.8795400e-01\n",
      "L2P                  : 7.6806300e-01\n",
      "Error:  [6.722740287668394e-08, 1.1116016293164839e-06]\n",
      "---------- iteration 6 ----------\n",
      "P2M                  : 7.0815800e-01\n",
      "M2M                  : 3.6181100e-01\n",
      "P2L                  : 1.1200000e-04\n",
      "M2P                  : 7.1000000e-05\n",
      "P2P                  : 4.7879100e-01\n",
      "M2L                  : 1.8379240e+00\n",
      "L2L                  : 3.4956400e-01\n",
      "L2P                  : 7.5654200e-01\n",
      "Error:  [6.440622722306432e-08, 1.038439056539717e-06]\n",
      "---------- iteration 7 ----------\n",
      "P2M                  : 7.2435100e-01\n",
      "M2M                  : 3.3388700e-01\n",
      "P2L                  : 1.2000000e-04\n",
      "M2P                  : 4.1000000e-05\n",
      "P2P                  : 4.6297700e-01\n",
      "M2L                  : 1.8262200e+00\n",
      "L2L                  : 3.3525200e-01\n",
      "L2P                  : 7.8518800e-01\n",
      "Error:  [6.977478818988372e-08, 1.1427365473485746e-06]\n",
      "---------- iteration 8 ----------\n",
      "P2M                  : 7.1838400e-01\n",
      "M2M                  : 3.4911500e-01\n",
      "P2L                  : 1.1400000e-04\n",
      "M2P                  : 4.3000000e-05\n",
      "P2P                  : 4.6666100e-01\n",
      "M2L                  : 1.8422870e+00\n",
      "L2L                  : 3.2595100e-01\n",
      "L2P                  : 7.5610000e-01\n",
      "Error:  [6.469681159155893e-08, 1.0578388758118209e-06]\n",
      "---------- iteration 9 ----------\n",
      "P2M                  : 6.8578600e-01\n",
      "M2M                  : 3.1995200e-01\n",
      "P2L                  : 1.7930000e-03\n",
      "M2P                  : 7.3000000e-05\n",
      "P2P                  : 4.7244200e-01\n",
      "M2L                  : 1.8372640e+00\n",
      "L2L                  : 3.1988300e-01\n",
      "L2P                  : 7.6325100e-01\n",
      "Error:  [6.5847022735772e-08, 1.070842521567987e-06]\n"
     ]
    }
   ],
   "source": [
    "niters = 10\n",
    "\n",
    "for i in range(niters):\n",
    "    print('-'*10 + ' iteration {} '.format(i) + '-'*10)  # print divider between iterations\n",
    "    \n",
    "    src_charges.real = np.random.random(nsrcs)     # generate new random charges\n",
    "    src_charges.imag = np.random.random(nsrcs)          \n",
    "    helmholtz.update_charges(tree, src_charges)      # update charges\n",
    "    helmholtz.clear_values(tree)                     # clear values\n",
    "    trg_values = helmholtz.evaluate(tree, fmm)       # evaluate potentials\n",
    "\n",
    "    print(\"Error: \", fmm.verify(tree.leafs))       # check accuracy"
   ]
  },
  {
   "cell_type": "code",
   "execution_count": null,
   "metadata": {},
   "outputs": [],
   "source": []
  }
 ],
 "metadata": {
  "kernelspec": {
   "display_name": "Python 3",
   "language": "python",
   "name": "python3"
  },
  "language_info": {
   "codemirror_mode": {
    "name": "ipython",
    "version": 3
   },
   "file_extension": ".py",
   "mimetype": "text/x-python",
   "name": "python",
   "nbconvert_exporter": "python",
   "pygments_lexer": "ipython3",
   "version": "3.7.3"
  }
 },
 "nbformat": 4,
 "nbformat_minor": 2
}
