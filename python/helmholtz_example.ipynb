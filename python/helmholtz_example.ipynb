{
 "cells": [
  {
   "cell_type": "code",
   "execution_count": 1,
   "metadata": {},
   "outputs": [],
   "source": [
    "import sys\n",
    "sys.path.append('../build')   # assume an out-of-source build\n",
    "\n",
    "import numpy as np\n",
    "import exafmm as fmm\n",
    "import exafmm.helmholtz as helmholtz"
   ]
  },
  {
   "cell_type": "code",
   "execution_count": 2,
   "metadata": {},
   "outputs": [
    {
     "data": {
      "text/plain": [
       "\"exafmm's submodule for Helmholtz kernel\""
      ]
     },
     "execution_count": 2,
     "metadata": {},
     "output_type": "execute_result"
    }
   ],
   "source": [
    "helmholtz.__doc__"
   ]
  },
  {
   "cell_type": "markdown",
   "metadata": {},
   "source": [
    "### Create sources and targets"
   ]
  },
  {
   "cell_type": "code",
   "execution_count": 3,
   "metadata": {},
   "outputs": [],
   "source": [
    "nsrcs = 100000\n",
    "ntrgs = 100000\n",
    "\n",
    "# generate random positions for particles\n",
    "src_coords = np.random.random((nsrcs, 3))\n",
    "trg_coords = np.random.random((nsrcs, 3))\n",
    "\n",
    "# generate random charges for sources\n",
    "src_charges = np.zeros(nsrcs, dtype=np.complex_)\n",
    "src_charges.real = np.random.random(nsrcs)\n",
    "src_charges.imag = np.random.random(nsrcs)"
   ]
  },
  {
   "cell_type": "code",
   "execution_count": 4,
   "metadata": {},
   "outputs": [],
   "source": [
    "# create a list of source instances\n",
    "sources = helmholtz.init_sources(src_coords, src_charges)\n",
    "\n",
    "# create a list of target instances\n",
    "targets = helmholtz.init_targets(trg_coords)"
   ]
  },
  {
   "cell_type": "markdown",
   "metadata": {},
   "source": [
    "### Create a HelmholtzFMM instance"
   ]
  },
  {
   "cell_type": "code",
   "execution_count": 5,
   "metadata": {},
   "outputs": [],
   "source": [
    "p = 10\n",
    "ncrit = 400\n",
    "depth = 4\n",
    "wavek = 10\n",
    "fmm = helmholtz.HelmholtzFMM(p, ncrit, depth, wavek)"
   ]
  },
  {
   "cell_type": "markdown",
   "metadata": {},
   "source": [
    "### Setup FMM\n",
    "\n",
    "Given sources, targets and FMM configurations, `setup()` builds the tree and interaction list and pre-compute invariant matrices.\n",
    "\n",
    "Set `skip_P2P` to `True` to skip near-field interactions for BEM applications."
   ]
  },
  {
   "cell_type": "code",
   "execution_count": 6,
   "metadata": {},
   "outputs": [],
   "source": [
    "skip_P2P = False\n",
    "tree = helmholtz.setup(sources, targets, fmm, skip_P2P)"
   ]
  },
  {
   "cell_type": "markdown",
   "metadata": {},
   "source": [
    "### Evaluate\n",
    "\n",
    "`evaluate()` triggers the evaluation and returns a $n_{trg} \\times 4$ `numpy.ndarray`.\n",
    "The $i$-th row of `trg_values` starts with the potential value of the $i$-th target, followed by its three gradient values."
   ]
  },
  {
   "cell_type": "code",
   "execution_count": 7,
   "metadata": {},
   "outputs": [
    {
     "name": "stdout",
     "output_type": "stream",
     "text": [
      "P2M                  : 7.7013300e-01\n",
      "M2M                  : 3.2773300e-01\n",
      "P2L                  : 1.4400000e-04\n",
      "M2P                  : 7.0000000e-05\n",
      "P2P                  : 4.6419000e-01\n",
      "M2L                  : 1.9199210e+00\n",
      "L2L                  : 2.8679600e-01\n",
      "L2P                  : 7.5918700e-01\n"
     ]
    }
   ],
   "source": [
    "trg_values = helmholtz.evaluate(tree, fmm)"
   ]
  },
  {
   "cell_type": "code",
   "execution_count": 8,
   "metadata": {},
   "outputs": [
    {
     "data": {
      "text/plain": [
       "array([ -822.4679547  -234.6779952j ,   161.3893981  -381.85256276j,\n",
       "       -4350.30246562+3610.24972758j,  1273.07609646 -792.61274951j])"
      ]
     },
     "execution_count": 8,
     "metadata": {},
     "output_type": "execute_result"
    }
   ],
   "source": [
    "trg_values[6]"
   ]
  },
  {
   "cell_type": "markdown",
   "metadata": {},
   "source": [
    "### Check Accuracy\n",
    "\n",
    "`fmm.verify(tree.leafs)` returns L2-norm the relative error of potential and gradient in a list. It only works when `skip_P2P` is set to `False`."
   ]
  },
  {
   "cell_type": "code",
   "execution_count": 9,
   "metadata": {},
   "outputs": [
    {
     "data": {
      "text/plain": [
       "[2.6103128528309673e-08, 4.2883268403517903e-07]"
      ]
     },
     "execution_count": 9,
     "metadata": {},
     "output_type": "execute_result"
    }
   ],
   "source": [
    "fmm.verify(tree.leafs)"
   ]
  },
  {
   "cell_type": "markdown",
   "metadata": {},
   "source": [
    "### Update charges of sources and run FMM iteratively"
   ]
  },
  {
   "cell_type": "code",
   "execution_count": 10,
   "metadata": {},
   "outputs": [
    {
     "name": "stdout",
     "output_type": "stream",
     "text": [
      "---------- iteration 0 ----------\n",
      "P2M                  : 7.8550100e-01\n",
      "M2M                  : 3.9598400e-01\n",
      "P2L                  : 9.0000000e-05\n",
      "M2P                  : 2.1320000e-03\n",
      "P2P                  : 4.7394500e-01\n",
      "M2L                  : 1.8643160e+00\n",
      "L2L                  : 3.0586600e-01\n",
      "L2P                  : 7.4776400e-01\n",
      "Error:  [2.8461308028804148e-08, 4.620627791487632e-07]\n",
      "---------- iteration 1 ----------\n",
      "P2M                  : 7.1312400e-01\n",
      "M2M                  : 3.1176500e-01\n",
      "P2L                  : 1.1500000e-04\n",
      "M2P                  : 4.2000000e-05\n",
      "P2P                  : 4.7704500e-01\n",
      "M2L                  : 1.8861630e+00\n",
      "L2L                  : 2.8140300e-01\n",
      "L2P                  : 7.7438300e-01\n",
      "Error:  [2.764751774113846e-08, 4.5900443804654814e-07]\n",
      "---------- iteration 2 ----------\n",
      "P2M                  : 7.1635600e-01\n",
      "M2M                  : 2.7734400e-01\n",
      "P2L                  : 1.7980000e-03\n",
      "M2P                  : 2.6310000e-03\n",
      "P2P                  : 4.8643800e-01\n",
      "M2L                  : 1.8662730e+00\n",
      "L2L                  : 3.4557500e-01\n",
      "L2P                  : 7.6263000e-01\n",
      "Error:  [2.630494229883817e-08, 4.348303594134946e-07]\n",
      "---------- iteration 3 ----------\n",
      "P2M                  : 7.0773500e-01\n",
      "M2M                  : 3.4647000e-01\n",
      "P2L                  : 8.9000000e-05\n",
      "M2P                  : 2.1630000e-03\n",
      "P2P                  : 4.6746500e-01\n",
      "M2L                  : 1.8895430e+00\n",
      "L2L                  : 3.6995300e-01\n",
      "L2P                  : 7.4198300e-01\n",
      "Error:  [2.90842570655195e-08, 4.891430685409806e-07]\n",
      "---------- iteration 4 ----------\n",
      "P2M                  : 7.2135800e-01\n",
      "M2M                  : 3.6840200e-01\n",
      "P2L                  : 1.1300000e-04\n",
      "M2P                  : 4.2000000e-05\n",
      "P2P                  : 4.7525100e-01\n",
      "M2L                  : 1.8726680e+00\n",
      "L2L                  : 3.4994000e-01\n",
      "L2P                  : 7.5810100e-01\n",
      "Error:  [2.771197789166332e-08, 4.474204159525944e-07]\n",
      "---------- iteration 5 ----------\n",
      "P2M                  : 7.0713900e-01\n",
      "M2M                  : 3.4465300e-01\n",
      "P2L                  : 1.0600000e-04\n",
      "M2P                  : 5.9000000e-05\n",
      "P2P                  : 4.7274600e-01\n",
      "M2L                  : 1.8818750e+00\n",
      "L2L                  : 3.2932600e-01\n",
      "L2P                  : 7.6783700e-01\n",
      "Error:  [2.913270015249289e-08, 4.703680763531234e-07]\n",
      "---------- iteration 6 ----------\n",
      "P2M                  : 7.0751400e-01\n",
      "M2M                  : 3.9490700e-01\n",
      "P2L                  : 8.0000000e-05\n",
      "M2P                  : 2.2250000e-03\n",
      "P2P                  : 4.6880500e-01\n",
      "M2L                  : 1.8778710e+00\n",
      "L2L                  : 3.0605900e-01\n",
      "L2P                  : 8.2430900e-01\n",
      "Error:  [2.737266389441027e-08, 4.4889446924893986e-07]\n",
      "---------- iteration 7 ----------\n",
      "P2M                  : 7.6474600e-01\n",
      "M2M                  : 3.2378300e-01\n",
      "P2L                  : 1.1600000e-04\n",
      "M2P                  : 4.2000000e-05\n",
      "P2P                  : 4.6890300e-01\n",
      "M2L                  : 1.8722080e+00\n",
      "L2L                  : 3.0480400e-01\n",
      "L2P                  : 7.9300800e-01\n",
      "Error:  [2.6023015050304118e-08, 4.274272212881227e-07]\n",
      "---------- iteration 8 ----------\n",
      "P2M                  : 7.0732400e-01\n",
      "M2M                  : 3.4935700e-01\n",
      "P2L                  : 1.0500000e-04\n",
      "M2P                  : 4.2000000e-05\n",
      "P2P                  : 4.6134700e-01\n",
      "M2L                  : 1.9103250e+00\n",
      "L2L                  : 3.5323200e-01\n",
      "L2P                  : 7.5198500e-01\n",
      "Error:  [2.907555829072385e-08, 4.776236278857151e-07]\n",
      "---------- iteration 9 ----------\n",
      "P2M                  : 7.1818400e-01\n",
      "M2M                  : 3.3512600e-01\n",
      "P2L                  : 1.0100000e-04\n",
      "M2P                  : 2.8080000e-03\n",
      "P2P                  : 4.6808400e-01\n",
      "M2L                  : 1.8774780e+00\n",
      "L2L                  : 3.0271500e-01\n",
      "L2P                  : 7.8025600e-01\n",
      "Error:  [2.8528671415387526e-08, 4.800425578368543e-07]\n"
     ]
    }
   ],
   "source": [
    "niters = 10\n",
    "\n",
    "for i in range(niters):\n",
    "    print('-'*10 + ' iteration {} '.format(i) + '-'*10)  # print divider between iterations\n",
    "    \n",
    "    src_charges.real = np.random.random(nsrcs)     # generate new random charges\n",
    "    src_charges.imag = np.random.random(nsrcs)          \n",
    "    helmholtz.update_charges(tree, src_charges)      # update charges\n",
    "    helmholtz.clear_values(tree)                     # clear values\n",
    "    trg_values = helmholtz.evaluate(tree, fmm)       # evaluate potentials\n",
    "\n",
    "    print(\"Error: \", fmm.verify(tree.leafs))       # check accuracy"
   ]
  },
  {
   "cell_type": "code",
   "execution_count": null,
   "metadata": {},
   "outputs": [],
   "source": []
  }
 ],
 "metadata": {
  "kernelspec": {
   "display_name": "Python 3",
   "language": "python",
   "name": "python3"
  },
  "language_info": {
   "codemirror_mode": {
    "name": "ipython",
    "version": 3
   },
   "file_extension": ".py",
   "mimetype": "text/x-python",
   "name": "python",
   "nbconvert_exporter": "python",
   "pygments_lexer": "ipython3",
   "version": "3.7.3"
  }
 },
 "nbformat": 4,
 "nbformat_minor": 2
}
